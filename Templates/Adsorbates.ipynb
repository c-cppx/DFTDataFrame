{
 "cells": [
  {
   "cell_type": "code",
   "execution_count": 25,
   "metadata": {},
   "outputs": [],
   "source": [
    "from DFTDataFrame.Tools import (\n",
    "    create_frame,\n",
    "    distance_from_surface,\n",
    "    read_strucfile,\n",
    "    fill_struc_gap,\n",
    "    get_project_root,\n",
    "    get_zpe_entropies,\n",
    "    Frequency,\n",
    "    getVacuum,\n",
    "    Imaginary,\n",
    "    converged,\n",
    "    notconverged,\n",
    ")\n",
    "\n",
    "from os import path as ospath\n",
    "from ase import Atoms\n",
    "\n",
    "\n",
    "# from DFTDataFrame.Tools import lines_that_start_with\n",
    "\n",
    "# from DFTDataFrame.Tools import get_zpe\n",
    "from DFTDataFrame.Tools import get_entropies\n",
    "from DFTDataFrame.Tools import Atommultiindex\n",
    "from DFTDataFrame.Tools import gas_free_G\n",
    "from DFTDataFrame.Tools import ads_free_G\n",
    "\n",
    "from pandas import DataFrame\n",
    "from numpy import NaN\n",
    "import pandas as pd\n",
    "from numpy import round\n",
    "import logging"
   ]
  },
  {
   "cell_type": "code",
   "execution_count": 26,
   "metadata": {},
   "outputs": [],
   "source": [
    "import warnings\n",
    "warnings.simplefilter('ignore')"
   ]
  },
  {
   "cell_type": "code",
   "execution_count": 27,
   "metadata": {},
   "outputs": [
    {
     "name": "stderr",
     "output_type": "stream",
     "text": [
      "CRITICAL:root:data/Cu/slabs/100/clean/2x2x4/OH/zeroAtoms/final.traj energy could not be read\n"
     ]
    },
    {
     "name": "stdout",
     "output_type": "stream",
     "text": [
      "Found 8 folders in data/Cu/slabs/\n",
      "Found 1 folders in data/Cu/bulk/\n",
      "Found 3 folders in data/Gas/\n"
     ]
    }
   ],
   "source": [
    "# Creating a dataframe from a given directory and its subdirectories.\n",
    "# The Flag file is the file inidicating in which folders it should look for. \n",
    "# Calc_file is read by ase.read to an Atoms object and reading all information from.\n",
    "\n",
    "root=get_project_root()\n",
    "Cu_slabs = create_frame('data/Cu/slabs/', calc_file='final.traj', flag_file='final.traj', droplist=['clean']) #Droplist contains strings which can be ommited when creating the Name/Index\n",
    "Cu_bulk = create_frame('data/Cu/bulk/', calc_file='final.traj', flag_file='final.traj')\n",
    "Gas = create_frame('data/Gas/', calc_file='final.traj', flag_file='final.traj')\n"
   ]
  },
  {
   "cell_type": "code",
   "execution_count": 28,
   "metadata": {},
   "outputs": [
    {
     "data": {
      "text/html": [
       "<div>\n",
       "<style scoped>\n",
       "    .dataframe tbody tr th:only-of-type {\n",
       "        vertical-align: middle;\n",
       "    }\n",
       "\n",
       "    .dataframe tbody tr th {\n",
       "        vertical-align: top;\n",
       "    }\n",
       "\n",
       "    .dataframe thead th {\n",
       "        text-align: right;\n",
       "    }\n",
       "</style>\n",
       "<table border=\"1\" class=\"dataframe\">\n",
       "  <thead>\n",
       "    <tr style=\"text-align: right;\">\n",
       "      <th></th>\n",
       "      <th>Path</th>\n",
       "      <th>Name</th>\n",
       "      <th>files</th>\n",
       "      <th>E</th>\n",
       "      <th>struc</th>\n",
       "      <th>fmax</th>\n",
       "      <th>timestamp</th>\n",
       "      <th>a</th>\n",
       "      <th>b</th>\n",
       "      <th>c</th>\n",
       "      <th>gamma</th>\n",
       "      <th>Formula</th>\n",
       "    </tr>\n",
       "  </thead>\n",
       "  <tbody>\n",
       "    <tr>\n",
       "      <th>100-2x2x4</th>\n",
       "      <td>data/Cu/slabs/100/clean/2x2x4</td>\n",
       "      <td>100-2x2x4</td>\n",
       "      <td>[INCAR, final.traj, CO, ACF.dat, CONTCAR, O, H...</td>\n",
       "      <td>-5.510428</td>\n",
       "      <td>(Atom('Cu', [1.2956307871401649, 1.29563078714...</td>\n",
       "      <td>0.0081</td>\n",
       "      <td>1.718219e+09</td>\n",
       "      <td>5.182523</td>\n",
       "      <td>5.182523</td>\n",
       "      <td>21.496896</td>\n",
       "      <td>90.0</td>\n",
       "      <td>Cu16</td>\n",
       "    </tr>\n",
       "    <tr>\n",
       "      <th>100-2x2x4-CO-1</th>\n",
       "      <td>data/Cu/slabs/100/clean/2x2x4/CO/1</td>\n",
       "      <td>100-2x2x4-CO-1</td>\n",
       "      <td>[vib.17y-.pckl, vib.17x+.pckl, vib.17z+.pckl, ...</td>\n",
       "      <td>-18.173690</td>\n",
       "      <td>(Atom('Cu', [1.8956307871401654, 1.99563078714...</td>\n",
       "      <td>0.0064</td>\n",
       "      <td>1.718218e+09</td>\n",
       "      <td>5.182523</td>\n",
       "      <td>5.182523</td>\n",
       "      <td>21.496896</td>\n",
       "      <td>90.0</td>\n",
       "      <td>CCu16O</td>\n",
       "    </tr>\n",
       "    <tr>\n",
       "      <th>100-2x2x4-O</th>\n",
       "      <td>data/Cu/slabs/100/clean/2x2x4/O</td>\n",
       "      <td>100-2x2x4-O</td>\n",
       "      <td>[INCAR, out.txt, final.traj, ACF.dat, CONTCAR,...</td>\n",
       "      <td>-10.682109</td>\n",
       "      <td>(Atom('Cu', [1.2956307871401649, 1.29563078714...</td>\n",
       "      <td>0.0069</td>\n",
       "      <td>1.718219e+09</td>\n",
       "      <td>5.182523</td>\n",
       "      <td>5.182523</td>\n",
       "      <td>21.496896</td>\n",
       "      <td>90.0</td>\n",
       "      <td>Cu16O</td>\n",
       "    </tr>\n",
       "    <tr>\n",
       "      <th>100-2x2x4-H</th>\n",
       "      <td>data/Cu/slabs/100/clean/2x2x4/H</td>\n",
       "      <td>100-2x2x4-H</td>\n",
       "      <td>[INCAR, out.txt, final.traj, ACF.dat, CONTCAR,...</td>\n",
       "      <td>-8.968309</td>\n",
       "      <td>(Atom('Cu', [1.2956307871401649, 1.29563078714...</td>\n",
       "      <td>0.0073</td>\n",
       "      <td>1.718218e+09</td>\n",
       "      <td>5.182523</td>\n",
       "      <td>5.182523</td>\n",
       "      <td>21.496896</td>\n",
       "      <td>90.0</td>\n",
       "      <td>HCu16</td>\n",
       "    </tr>\n",
       "    <tr>\n",
       "      <th>100-2x2x4-OH-complete</th>\n",
       "      <td>data/Cu/slabs/100/clean/2x2x4/OH/complete</td>\n",
       "      <td>100-2x2x4-OH-complete</td>\n",
       "      <td>[vib.17y-.pckl, vib.17x+.pckl, vib.17z+.pckl, ...</td>\n",
       "      <td>-14.752907</td>\n",
       "      <td>(Atom('Cu', [1.2956307871401649, 1.29563078714...</td>\n",
       "      <td>0.0091</td>\n",
       "      <td>1.718219e+09</td>\n",
       "      <td>5.182523</td>\n",
       "      <td>5.182523</td>\n",
       "      <td>21.496896</td>\n",
       "      <td>90.0</td>\n",
       "      <td>HCu16O</td>\n",
       "    </tr>\n",
       "    <tr>\n",
       "      <th>100-2x2x4-OH-incomplete</th>\n",
       "      <td>data/Cu/slabs/100/clean/2x2x4/OH/incomplete</td>\n",
       "      <td>100-2x2x4-OH-incomplete</td>\n",
       "      <td>[vib.17y-.pckl, vib.17x+.pckl, vib.17z+.pckl, ...</td>\n",
       "      <td>-14.752907</td>\n",
       "      <td>(Atom('Cu', [1.2956307871401649, 1.29563078714...</td>\n",
       "      <td>0.0091</td>\n",
       "      <td>1.718219e+09</td>\n",
       "      <td>5.182523</td>\n",
       "      <td>5.182523</td>\n",
       "      <td>21.496896</td>\n",
       "      <td>90.0</td>\n",
       "      <td>HCu16O</td>\n",
       "    </tr>\n",
       "    <tr>\n",
       "      <th>100-2x2x4-OH-missmatch</th>\n",
       "      <td>data/Cu/slabs/100/clean/2x2x4/OH/missmatch</td>\n",
       "      <td>100-2x2x4-OH-missmatch</td>\n",
       "      <td>[INCAR, final.traj, CONTCAR]</td>\n",
       "      <td>-14.752907</td>\n",
       "      <td>(Atom('Cu', [1.2956307871401649, 1.29563078714...</td>\n",
       "      <td>0.0091</td>\n",
       "      <td>1.718219e+09</td>\n",
       "      <td>5.182523</td>\n",
       "      <td>5.182523</td>\n",
       "      <td>21.496896</td>\n",
       "      <td>90.0</td>\n",
       "      <td>HCu16O</td>\n",
       "    </tr>\n",
       "    <tr>\n",
       "      <th>100-2x2x4-OH-zeroAtoms</th>\n",
       "      <td>data/Cu/slabs/100/clean/2x2x4/OH/zeroAtoms</td>\n",
       "      <td>100-2x2x4-OH-zeroAtoms</td>\n",
       "      <td>[out.txt, final.traj, CONTCAR]</td>\n",
       "      <td>0.000000</td>\n",
       "      <td>()</td>\n",
       "      <td>0.0000</td>\n",
       "      <td>1.698506e+09</td>\n",
       "      <td>0.000000</td>\n",
       "      <td>0.000000</td>\n",
       "      <td>0.000000</td>\n",
       "      <td>0.0</td>\n",
       "      <td>0</td>\n",
       "    </tr>\n",
       "  </tbody>\n",
       "</table>\n",
       "</div>"
      ],
      "text/plain": [
       "                                                                Path  \\\n",
       "100-2x2x4                              data/Cu/slabs/100/clean/2x2x4   \n",
       "100-2x2x4-CO-1                    data/Cu/slabs/100/clean/2x2x4/CO/1   \n",
       "100-2x2x4-O                          data/Cu/slabs/100/clean/2x2x4/O   \n",
       "100-2x2x4-H                          data/Cu/slabs/100/clean/2x2x4/H   \n",
       "100-2x2x4-OH-complete      data/Cu/slabs/100/clean/2x2x4/OH/complete   \n",
       "100-2x2x4-OH-incomplete  data/Cu/slabs/100/clean/2x2x4/OH/incomplete   \n",
       "100-2x2x4-OH-missmatch    data/Cu/slabs/100/clean/2x2x4/OH/missmatch   \n",
       "100-2x2x4-OH-zeroAtoms    data/Cu/slabs/100/clean/2x2x4/OH/zeroAtoms   \n",
       "\n",
       "                                            Name  \\\n",
       "100-2x2x4                              100-2x2x4   \n",
       "100-2x2x4-CO-1                    100-2x2x4-CO-1   \n",
       "100-2x2x4-O                          100-2x2x4-O   \n",
       "100-2x2x4-H                          100-2x2x4-H   \n",
       "100-2x2x4-OH-complete      100-2x2x4-OH-complete   \n",
       "100-2x2x4-OH-incomplete  100-2x2x4-OH-incomplete   \n",
       "100-2x2x4-OH-missmatch    100-2x2x4-OH-missmatch   \n",
       "100-2x2x4-OH-zeroAtoms    100-2x2x4-OH-zeroAtoms   \n",
       "\n",
       "                                                                     files  \\\n",
       "100-2x2x4                [INCAR, final.traj, CO, ACF.dat, CONTCAR, O, H...   \n",
       "100-2x2x4-CO-1           [vib.17y-.pckl, vib.17x+.pckl, vib.17z+.pckl, ...   \n",
       "100-2x2x4-O              [INCAR, out.txt, final.traj, ACF.dat, CONTCAR,...   \n",
       "100-2x2x4-H              [INCAR, out.txt, final.traj, ACF.dat, CONTCAR,...   \n",
       "100-2x2x4-OH-complete    [vib.17y-.pckl, vib.17x+.pckl, vib.17z+.pckl, ...   \n",
       "100-2x2x4-OH-incomplete  [vib.17y-.pckl, vib.17x+.pckl, vib.17z+.pckl, ...   \n",
       "100-2x2x4-OH-missmatch                        [INCAR, final.traj, CONTCAR]   \n",
       "100-2x2x4-OH-zeroAtoms                      [out.txt, final.traj, CONTCAR]   \n",
       "\n",
       "                                 E  \\\n",
       "100-2x2x4                -5.510428   \n",
       "100-2x2x4-CO-1          -18.173690   \n",
       "100-2x2x4-O             -10.682109   \n",
       "100-2x2x4-H              -8.968309   \n",
       "100-2x2x4-OH-complete   -14.752907   \n",
       "100-2x2x4-OH-incomplete -14.752907   \n",
       "100-2x2x4-OH-missmatch  -14.752907   \n",
       "100-2x2x4-OH-zeroAtoms    0.000000   \n",
       "\n",
       "                                                                     struc  \\\n",
       "100-2x2x4                (Atom('Cu', [1.2956307871401649, 1.29563078714...   \n",
       "100-2x2x4-CO-1           (Atom('Cu', [1.8956307871401654, 1.99563078714...   \n",
       "100-2x2x4-O              (Atom('Cu', [1.2956307871401649, 1.29563078714...   \n",
       "100-2x2x4-H              (Atom('Cu', [1.2956307871401649, 1.29563078714...   \n",
       "100-2x2x4-OH-complete    (Atom('Cu', [1.2956307871401649, 1.29563078714...   \n",
       "100-2x2x4-OH-incomplete  (Atom('Cu', [1.2956307871401649, 1.29563078714...   \n",
       "100-2x2x4-OH-missmatch   (Atom('Cu', [1.2956307871401649, 1.29563078714...   \n",
       "100-2x2x4-OH-zeroAtoms                                                  ()   \n",
       "\n",
       "                           fmax     timestamp         a         b          c  \\\n",
       "100-2x2x4                0.0081  1.718219e+09  5.182523  5.182523  21.496896   \n",
       "100-2x2x4-CO-1           0.0064  1.718218e+09  5.182523  5.182523  21.496896   \n",
       "100-2x2x4-O              0.0069  1.718219e+09  5.182523  5.182523  21.496896   \n",
       "100-2x2x4-H              0.0073  1.718218e+09  5.182523  5.182523  21.496896   \n",
       "100-2x2x4-OH-complete    0.0091  1.718219e+09  5.182523  5.182523  21.496896   \n",
       "100-2x2x4-OH-incomplete  0.0091  1.718219e+09  5.182523  5.182523  21.496896   \n",
       "100-2x2x4-OH-missmatch   0.0091  1.718219e+09  5.182523  5.182523  21.496896   \n",
       "100-2x2x4-OH-zeroAtoms   0.0000  1.698506e+09  0.000000  0.000000   0.000000   \n",
       "\n",
       "                         gamma Formula  \n",
       "100-2x2x4                 90.0    Cu16  \n",
       "100-2x2x4-CO-1            90.0  CCu16O  \n",
       "100-2x2x4-O               90.0   Cu16O  \n",
       "100-2x2x4-H               90.0   HCu16  \n",
       "100-2x2x4-OH-complete     90.0  HCu16O  \n",
       "100-2x2x4-OH-incomplete   90.0  HCu16O  \n",
       "100-2x2x4-OH-missmatch    90.0  HCu16O  \n",
       "100-2x2x4-OH-zeroAtoms     0.0       0  "
      ]
     },
     "execution_count": 28,
     "metadata": {},
     "output_type": "execute_result"
    }
   ],
   "source": [
    "# The DataFrame has 12 columns\n",
    "# Path: path to the folder, \n",
    "# Files: files in the folder, usefule to check if ACF.dat or DOSCAR is present\n",
    "# the Name: name which is shorter and easier to remember than the Path,\n",
    "# E: the final energy\n",
    "# struc: the atoms object of the final structure.\n",
    "# fmax: the forces\n",
    "# timestamp: the last modified date, used to update only what is necessary the frame \n",
    "# a,b,c, gamma: a,b,c and gamma of the unit cell\n",
    "# Formula: the chemical formula of the structures\n",
    "Cu_slabs"
   ]
  },
  {
   "cell_type": "code",
   "execution_count": null,
   "metadata": {},
   "outputs": [],
   "source": []
  },
  {
   "cell_type": "markdown",
   "metadata": {},
   "source": [
    "There is a column which is called \"struc\" which should contain the structure from which we derived the forces and the enrgy.\n",
    "\n",
    "It can be that some calculations are missing that, because they don't have a \"final.traj\" file. \n",
    "For example when a calculation is still running or has Failed at some pint. \n",
    "\n",
    "To still get a structure, energy and the forces you can fill those empty columns from another file with the following command:"
   ]
  },
  {
   "cell_type": "code",
   "execution_count": 29,
   "metadata": {},
   "outputs": [
    {
     "data": {
      "text/html": [
       "<div>\n",
       "<style scoped>\n",
       "    .dataframe tbody tr th:only-of-type {\n",
       "        vertical-align: middle;\n",
       "    }\n",
       "\n",
       "    .dataframe tbody tr th {\n",
       "        vertical-align: top;\n",
       "    }\n",
       "\n",
       "    .dataframe thead th {\n",
       "        text-align: right;\n",
       "    }\n",
       "</style>\n",
       "<table border=\"1\" class=\"dataframe\">\n",
       "  <thead>\n",
       "    <tr style=\"text-align: right;\">\n",
       "      <th></th>\n",
       "      <th>Path</th>\n",
       "      <th>Name</th>\n",
       "      <th>files</th>\n",
       "      <th>E</th>\n",
       "      <th>struc</th>\n",
       "      <th>fmax</th>\n",
       "      <th>timestamp</th>\n",
       "      <th>a</th>\n",
       "      <th>b</th>\n",
       "      <th>c</th>\n",
       "      <th>gamma</th>\n",
       "      <th>Formula</th>\n",
       "    </tr>\n",
       "  </thead>\n",
       "  <tbody>\n",
       "    <tr>\n",
       "      <th>100-2x2x4</th>\n",
       "      <td>data/Cu/slabs/100/clean/2x2x4</td>\n",
       "      <td>100-2x2x4</td>\n",
       "      <td>[INCAR, final.traj, CO, ACF.dat, CONTCAR, O, H...</td>\n",
       "      <td>-5.510428</td>\n",
       "      <td>(Atom('Cu', [1.2956307871401649, 1.29563078714...</td>\n",
       "      <td>0.0081</td>\n",
       "      <td>1.718219e+09</td>\n",
       "      <td>5.182523</td>\n",
       "      <td>5.182523</td>\n",
       "      <td>21.496896</td>\n",
       "      <td>90.0</td>\n",
       "      <td>Cu16</td>\n",
       "    </tr>\n",
       "    <tr>\n",
       "      <th>100-2x2x4-CO-1</th>\n",
       "      <td>data/Cu/slabs/100/clean/2x2x4/CO/1</td>\n",
       "      <td>100-2x2x4-CO-1</td>\n",
       "      <td>[vib.17y-.pckl, vib.17x+.pckl, vib.17z+.pckl, ...</td>\n",
       "      <td>-18.173690</td>\n",
       "      <td>(Atom('Cu', [1.8956307871401654, 1.99563078714...</td>\n",
       "      <td>0.0064</td>\n",
       "      <td>1.718218e+09</td>\n",
       "      <td>5.182523</td>\n",
       "      <td>5.182523</td>\n",
       "      <td>21.496896</td>\n",
       "      <td>90.0</td>\n",
       "      <td>CCu16O</td>\n",
       "    </tr>\n",
       "    <tr>\n",
       "      <th>100-2x2x4-O</th>\n",
       "      <td>data/Cu/slabs/100/clean/2x2x4/O</td>\n",
       "      <td>100-2x2x4-O</td>\n",
       "      <td>[INCAR, out.txt, final.traj, ACF.dat, CONTCAR,...</td>\n",
       "      <td>-10.682109</td>\n",
       "      <td>(Atom('Cu', [1.2956307871401649, 1.29563078714...</td>\n",
       "      <td>0.0069</td>\n",
       "      <td>1.718219e+09</td>\n",
       "      <td>5.182523</td>\n",
       "      <td>5.182523</td>\n",
       "      <td>21.496896</td>\n",
       "      <td>90.0</td>\n",
       "      <td>Cu16O</td>\n",
       "    </tr>\n",
       "    <tr>\n",
       "      <th>100-2x2x4-H</th>\n",
       "      <td>data/Cu/slabs/100/clean/2x2x4/H</td>\n",
       "      <td>100-2x2x4-H</td>\n",
       "      <td>[INCAR, out.txt, final.traj, ACF.dat, CONTCAR,...</td>\n",
       "      <td>-8.968309</td>\n",
       "      <td>(Atom('Cu', [1.2956307871401649, 1.29563078714...</td>\n",
       "      <td>0.0073</td>\n",
       "      <td>1.718218e+09</td>\n",
       "      <td>5.182523</td>\n",
       "      <td>5.182523</td>\n",
       "      <td>21.496896</td>\n",
       "      <td>90.0</td>\n",
       "      <td>HCu16</td>\n",
       "    </tr>\n",
       "    <tr>\n",
       "      <th>100-2x2x4-OH-complete</th>\n",
       "      <td>data/Cu/slabs/100/clean/2x2x4/OH/complete</td>\n",
       "      <td>100-2x2x4-OH-complete</td>\n",
       "      <td>[vib.17y-.pckl, vib.17x+.pckl, vib.17z+.pckl, ...</td>\n",
       "      <td>-14.752907</td>\n",
       "      <td>(Atom('Cu', [1.2956307871401649, 1.29563078714...</td>\n",
       "      <td>0.0091</td>\n",
       "      <td>1.718219e+09</td>\n",
       "      <td>5.182523</td>\n",
       "      <td>5.182523</td>\n",
       "      <td>21.496896</td>\n",
       "      <td>90.0</td>\n",
       "      <td>HCu16O</td>\n",
       "    </tr>\n",
       "    <tr>\n",
       "      <th>100-2x2x4-OH-incomplete</th>\n",
       "      <td>data/Cu/slabs/100/clean/2x2x4/OH/incomplete</td>\n",
       "      <td>100-2x2x4-OH-incomplete</td>\n",
       "      <td>[vib.17y-.pckl, vib.17x+.pckl, vib.17z+.pckl, ...</td>\n",
       "      <td>-14.752907</td>\n",
       "      <td>(Atom('Cu', [1.2956307871401649, 1.29563078714...</td>\n",
       "      <td>0.0091</td>\n",
       "      <td>1.718219e+09</td>\n",
       "      <td>5.182523</td>\n",
       "      <td>5.182523</td>\n",
       "      <td>21.496896</td>\n",
       "      <td>90.0</td>\n",
       "      <td>HCu16O</td>\n",
       "    </tr>\n",
       "    <tr>\n",
       "      <th>100-2x2x4-OH-missmatch</th>\n",
       "      <td>data/Cu/slabs/100/clean/2x2x4/OH/missmatch</td>\n",
       "      <td>100-2x2x4-OH-missmatch</td>\n",
       "      <td>[INCAR, final.traj, CONTCAR]</td>\n",
       "      <td>-14.752907</td>\n",
       "      <td>(Atom('Cu', [1.2956307871401649, 1.29563078714...</td>\n",
       "      <td>0.0091</td>\n",
       "      <td>1.718219e+09</td>\n",
       "      <td>5.182523</td>\n",
       "      <td>5.182523</td>\n",
       "      <td>21.496896</td>\n",
       "      <td>90.0</td>\n",
       "      <td>HCu16O</td>\n",
       "    </tr>\n",
       "    <tr>\n",
       "      <th>100-2x2x4-OH-zeroAtoms</th>\n",
       "      <td>data/Cu/slabs/100/clean/2x2x4/OH/zeroAtoms</td>\n",
       "      <td>100-2x2x4-OH-zeroAtoms</td>\n",
       "      <td>[out.txt, final.traj, CONTCAR]</td>\n",
       "      <td>0.000000</td>\n",
       "      <td>()</td>\n",
       "      <td>0.0000</td>\n",
       "      <td>1.698506e+09</td>\n",
       "      <td>0.000000</td>\n",
       "      <td>0.000000</td>\n",
       "      <td>0.000000</td>\n",
       "      <td>0.0</td>\n",
       "      <td>0</td>\n",
       "    </tr>\n",
       "  </tbody>\n",
       "</table>\n",
       "</div>"
      ],
      "text/plain": [
       "                                                                Path  \\\n",
       "100-2x2x4                              data/Cu/slabs/100/clean/2x2x4   \n",
       "100-2x2x4-CO-1                    data/Cu/slabs/100/clean/2x2x4/CO/1   \n",
       "100-2x2x4-O                          data/Cu/slabs/100/clean/2x2x4/O   \n",
       "100-2x2x4-H                          data/Cu/slabs/100/clean/2x2x4/H   \n",
       "100-2x2x4-OH-complete      data/Cu/slabs/100/clean/2x2x4/OH/complete   \n",
       "100-2x2x4-OH-incomplete  data/Cu/slabs/100/clean/2x2x4/OH/incomplete   \n",
       "100-2x2x4-OH-missmatch    data/Cu/slabs/100/clean/2x2x4/OH/missmatch   \n",
       "100-2x2x4-OH-zeroAtoms    data/Cu/slabs/100/clean/2x2x4/OH/zeroAtoms   \n",
       "\n",
       "                                            Name  \\\n",
       "100-2x2x4                              100-2x2x4   \n",
       "100-2x2x4-CO-1                    100-2x2x4-CO-1   \n",
       "100-2x2x4-O                          100-2x2x4-O   \n",
       "100-2x2x4-H                          100-2x2x4-H   \n",
       "100-2x2x4-OH-complete      100-2x2x4-OH-complete   \n",
       "100-2x2x4-OH-incomplete  100-2x2x4-OH-incomplete   \n",
       "100-2x2x4-OH-missmatch    100-2x2x4-OH-missmatch   \n",
       "100-2x2x4-OH-zeroAtoms    100-2x2x4-OH-zeroAtoms   \n",
       "\n",
       "                                                                     files  \\\n",
       "100-2x2x4                [INCAR, final.traj, CO, ACF.dat, CONTCAR, O, H...   \n",
       "100-2x2x4-CO-1           [vib.17y-.pckl, vib.17x+.pckl, vib.17z+.pckl, ...   \n",
       "100-2x2x4-O              [INCAR, out.txt, final.traj, ACF.dat, CONTCAR,...   \n",
       "100-2x2x4-H              [INCAR, out.txt, final.traj, ACF.dat, CONTCAR,...   \n",
       "100-2x2x4-OH-complete    [vib.17y-.pckl, vib.17x+.pckl, vib.17z+.pckl, ...   \n",
       "100-2x2x4-OH-incomplete  [vib.17y-.pckl, vib.17x+.pckl, vib.17z+.pckl, ...   \n",
       "100-2x2x4-OH-missmatch                        [INCAR, final.traj, CONTCAR]   \n",
       "100-2x2x4-OH-zeroAtoms                      [out.txt, final.traj, CONTCAR]   \n",
       "\n",
       "                                 E  \\\n",
       "100-2x2x4                -5.510428   \n",
       "100-2x2x4-CO-1          -18.173690   \n",
       "100-2x2x4-O             -10.682109   \n",
       "100-2x2x4-H              -8.968309   \n",
       "100-2x2x4-OH-complete   -14.752907   \n",
       "100-2x2x4-OH-incomplete -14.752907   \n",
       "100-2x2x4-OH-missmatch  -14.752907   \n",
       "100-2x2x4-OH-zeroAtoms    0.000000   \n",
       "\n",
       "                                                                     struc  \\\n",
       "100-2x2x4                (Atom('Cu', [1.2956307871401649, 1.29563078714...   \n",
       "100-2x2x4-CO-1           (Atom('Cu', [1.8956307871401654, 1.99563078714...   \n",
       "100-2x2x4-O              (Atom('Cu', [1.2956307871401649, 1.29563078714...   \n",
       "100-2x2x4-H              (Atom('Cu', [1.2956307871401649, 1.29563078714...   \n",
       "100-2x2x4-OH-complete    (Atom('Cu', [1.2956307871401649, 1.29563078714...   \n",
       "100-2x2x4-OH-incomplete  (Atom('Cu', [1.2956307871401649, 1.29563078714...   \n",
       "100-2x2x4-OH-missmatch   (Atom('Cu', [1.2956307871401649, 1.29563078714...   \n",
       "100-2x2x4-OH-zeroAtoms                                                  ()   \n",
       "\n",
       "                           fmax     timestamp         a         b          c  \\\n",
       "100-2x2x4                0.0081  1.718219e+09  5.182523  5.182523  21.496896   \n",
       "100-2x2x4-CO-1           0.0064  1.718218e+09  5.182523  5.182523  21.496896   \n",
       "100-2x2x4-O              0.0069  1.718219e+09  5.182523  5.182523  21.496896   \n",
       "100-2x2x4-H              0.0073  1.718218e+09  5.182523  5.182523  21.496896   \n",
       "100-2x2x4-OH-complete    0.0091  1.718219e+09  5.182523  5.182523  21.496896   \n",
       "100-2x2x4-OH-incomplete  0.0091  1.718219e+09  5.182523  5.182523  21.496896   \n",
       "100-2x2x4-OH-missmatch   0.0091  1.718219e+09  5.182523  5.182523  21.496896   \n",
       "100-2x2x4-OH-zeroAtoms   0.0000  1.698506e+09  0.000000  0.000000   0.000000   \n",
       "\n",
       "                         gamma Formula  \n",
       "100-2x2x4                 90.0    Cu16  \n",
       "100-2x2x4-CO-1            90.0  CCu16O  \n",
       "100-2x2x4-O               90.0   Cu16O  \n",
       "100-2x2x4-H               90.0   HCu16  \n",
       "100-2x2x4-OH-complete     90.0  HCu16O  \n",
       "100-2x2x4-OH-incomplete   90.0  HCu16O  \n",
       "100-2x2x4-OH-missmatch    90.0  HCu16O  \n",
       "100-2x2x4-OH-zeroAtoms     0.0       0  "
      ]
     },
     "execution_count": 29,
     "metadata": {},
     "output_type": "execute_result"
    }
   ],
   "source": [
    "Cu_slabs['struc'], Cu_slabs['E'], Cu_slabs['fmax'] = zip(*Cu_slabs.apply(fill_struc_gap, args=['OUTCAR'], axis=1))\n",
    "Cu_slabs#In our case nothing changed"
   ]
  },
  {
   "cell_type": "code",
   "execution_count": 30,
   "metadata": {},
   "outputs": [
    {
     "name": "stderr",
     "output_type": "stream",
     "text": [
      "CRITICAL:root:CONTCAR empty in 100-2x2x4-OH-zeroAtoms\n"
     ]
    }
   ],
   "source": [
    "#Sometimes we want the structure from specific file, e.g the CONTCAR file for the Bader charge\n",
    "Cu_slabs['CONTCAR'] = Cu_slabs.apply(read_strucfile,args=['CONTCAR'], axis=1)\n",
    "#It has a problem with the calculation in 100/2x2x4/OH/zeroAtoms, which contains no structure.\n",
    "#This calculation will serve as an example to show how errors are treated."
   ]
  },
  {
   "cell_type": "markdown",
   "metadata": {},
   "source": [
    "# A few tests"
   ]
  },
  {
   "cell_type": "code",
   "execution_count": 31,
   "metadata": {},
   "outputs": [
    {
     "data": {
      "text/html": [
       "<div>\n",
       "<style scoped>\n",
       "    .dataframe tbody tr th:only-of-type {\n",
       "        vertical-align: middle;\n",
       "    }\n",
       "\n",
       "    .dataframe tbody tr th {\n",
       "        vertical-align: top;\n",
       "    }\n",
       "\n",
       "    .dataframe thead th {\n",
       "        text-align: right;\n",
       "    }\n",
       "</style>\n",
       "<table border=\"1\" class=\"dataframe\">\n",
       "  <thead>\n",
       "    <tr style=\"text-align: right;\">\n",
       "      <th></th>\n",
       "      <th>Path</th>\n",
       "      <th>Name</th>\n",
       "      <th>files</th>\n",
       "      <th>E</th>\n",
       "      <th>struc</th>\n",
       "      <th>fmax</th>\n",
       "      <th>timestamp</th>\n",
       "      <th>a</th>\n",
       "      <th>b</th>\n",
       "      <th>c</th>\n",
       "      <th>gamma</th>\n",
       "      <th>Formula</th>\n",
       "      <th>CONTCAR</th>\n",
       "    </tr>\n",
       "  </thead>\n",
       "  <tbody>\n",
       "    <tr>\n",
       "      <th>100-2x2x4-OH-zeroAtoms</th>\n",
       "      <td>data/Cu/slabs/100/clean/2x2x4/OH/zeroAtoms</td>\n",
       "      <td>100-2x2x4-OH-zeroAtoms</td>\n",
       "      <td>[out.txt, final.traj, CONTCAR]</td>\n",
       "      <td>0.0</td>\n",
       "      <td>()</td>\n",
       "      <td>0.0</td>\n",
       "      <td>1.698506e+09</td>\n",
       "      <td>0.0</td>\n",
       "      <td>0.0</td>\n",
       "      <td>0.0</td>\n",
       "      <td>0.0</td>\n",
       "      <td>0</td>\n",
       "      <td>()</td>\n",
       "    </tr>\n",
       "  </tbody>\n",
       "</table>\n",
       "</div>"
      ],
      "text/plain": [
       "                                                              Path  \\\n",
       "100-2x2x4-OH-zeroAtoms  data/Cu/slabs/100/clean/2x2x4/OH/zeroAtoms   \n",
       "\n",
       "                                          Name  \\\n",
       "100-2x2x4-OH-zeroAtoms  100-2x2x4-OH-zeroAtoms   \n",
       "\n",
       "                                                 files    E struc  fmax  \\\n",
       "100-2x2x4-OH-zeroAtoms  [out.txt, final.traj, CONTCAR]  0.0    ()   0.0   \n",
       "\n",
       "                           timestamp    a    b    c  gamma Formula CONTCAR  \n",
       "100-2x2x4-OH-zeroAtoms  1.698506e+09  0.0  0.0  0.0    0.0       0      ()  "
      ]
     },
     "execution_count": 31,
     "metadata": {},
     "output_type": "execute_result"
    }
   ],
   "source": [
    "Cu_slabs[Cu_slabs.apply(lambda x: len(x.struc), axis=1) == 0] \n",
    "# shows rows which have 0 atoms\n"
   ]
  },
  {
   "cell_type": "code",
   "execution_count": 32,
   "metadata": {},
   "outputs": [
    {
     "data": {
      "text/html": [
       "<div>\n",
       "<style scoped>\n",
       "    .dataframe tbody tr th:only-of-type {\n",
       "        vertical-align: middle;\n",
       "    }\n",
       "\n",
       "    .dataframe tbody tr th {\n",
       "        vertical-align: top;\n",
       "    }\n",
       "\n",
       "    .dataframe thead th {\n",
       "        text-align: right;\n",
       "    }\n",
       "</style>\n",
       "<table border=\"1\" class=\"dataframe\">\n",
       "  <thead>\n",
       "    <tr style=\"text-align: right;\">\n",
       "      <th></th>\n",
       "      <th>Path</th>\n",
       "      <th>Name</th>\n",
       "      <th>files</th>\n",
       "      <th>E</th>\n",
       "      <th>struc</th>\n",
       "      <th>fmax</th>\n",
       "      <th>timestamp</th>\n",
       "      <th>a</th>\n",
       "      <th>b</th>\n",
       "      <th>c</th>\n",
       "      <th>gamma</th>\n",
       "      <th>Formula</th>\n",
       "      <th>CONTCAR</th>\n",
       "    </tr>\n",
       "  </thead>\n",
       "  <tbody>\n",
       "    <tr>\n",
       "      <th>100-2x2x4-OH-zeroAtoms</th>\n",
       "      <td>data/Cu/slabs/100/clean/2x2x4/OH/zeroAtoms</td>\n",
       "      <td>100-2x2x4-OH-zeroAtoms</td>\n",
       "      <td>[out.txt, final.traj, CONTCAR]</td>\n",
       "      <td>0.0</td>\n",
       "      <td>()</td>\n",
       "      <td>0.0</td>\n",
       "      <td>1.698506e+09</td>\n",
       "      <td>0.0</td>\n",
       "      <td>0.0</td>\n",
       "      <td>0.0</td>\n",
       "      <td>0.0</td>\n",
       "      <td>0</td>\n",
       "      <td>()</td>\n",
       "    </tr>\n",
       "  </tbody>\n",
       "</table>\n",
       "</div>"
      ],
      "text/plain": [
       "                                                              Path  \\\n",
       "100-2x2x4-OH-zeroAtoms  data/Cu/slabs/100/clean/2x2x4/OH/zeroAtoms   \n",
       "\n",
       "                                          Name  \\\n",
       "100-2x2x4-OH-zeroAtoms  100-2x2x4-OH-zeroAtoms   \n",
       "\n",
       "                                                 files    E struc  fmax  \\\n",
       "100-2x2x4-OH-zeroAtoms  [out.txt, final.traj, CONTCAR]  0.0    ()   0.0   \n",
       "\n",
       "                           timestamp    a    b    c  gamma Formula CONTCAR  \n",
       "100-2x2x4-OH-zeroAtoms  1.698506e+09  0.0  0.0  0.0    0.0       0      ()  "
      ]
     },
     "execution_count": 32,
     "metadata": {},
     "output_type": "execute_result"
    }
   ],
   "source": [
    "notconverged(Cu_slabs, convergence_threshold=0.01) \n",
    "# shows Calculations which are not converged (force) or have forces exactly 0"
   ]
  },
  {
   "cell_type": "code",
   "execution_count": 33,
   "metadata": {},
   "outputs": [
    {
     "data": {
      "text/html": [
       "<div>\n",
       "<style scoped>\n",
       "    .dataframe tbody tr th:only-of-type {\n",
       "        vertical-align: middle;\n",
       "    }\n",
       "\n",
       "    .dataframe tbody tr th {\n",
       "        vertical-align: top;\n",
       "    }\n",
       "\n",
       "    .dataframe thead th {\n",
       "        text-align: right;\n",
       "    }\n",
       "</style>\n",
       "<table border=\"1\" class=\"dataframe\">\n",
       "  <thead>\n",
       "    <tr style=\"text-align: right;\">\n",
       "      <th></th>\n",
       "      <th>Path</th>\n",
       "      <th>Name</th>\n",
       "      <th>files</th>\n",
       "      <th>E</th>\n",
       "      <th>struc</th>\n",
       "      <th>fmax</th>\n",
       "      <th>timestamp</th>\n",
       "      <th>a</th>\n",
       "      <th>b</th>\n",
       "      <th>c</th>\n",
       "      <th>gamma</th>\n",
       "      <th>Formula</th>\n",
       "      <th>CONTCAR</th>\n",
       "    </tr>\n",
       "  </thead>\n",
       "  <tbody>\n",
       "    <tr>\n",
       "      <th>100-2x2x4</th>\n",
       "      <td>data/Cu/slabs/100/clean/2x2x4</td>\n",
       "      <td>100-2x2x4</td>\n",
       "      <td>[INCAR, final.traj, CO, ACF.dat, CONTCAR, O, H...</td>\n",
       "      <td>-5.510428</td>\n",
       "      <td>(Atom('Cu', [1.2956307871401649, 1.29563078714...</td>\n",
       "      <td>0.0081</td>\n",
       "      <td>1.718219e+09</td>\n",
       "      <td>5.182523</td>\n",
       "      <td>5.182523</td>\n",
       "      <td>21.496896</td>\n",
       "      <td>90.0</td>\n",
       "      <td>Cu16</td>\n",
       "      <td>(Atom('Cu', [1.2956307871401649, 1.29563078714...</td>\n",
       "    </tr>\n",
       "    <tr>\n",
       "      <th>100-2x2x4-CO-1</th>\n",
       "      <td>data/Cu/slabs/100/clean/2x2x4/CO/1</td>\n",
       "      <td>100-2x2x4-CO-1</td>\n",
       "      <td>[vib.17y-.pckl, vib.17x+.pckl, vib.17z+.pckl, ...</td>\n",
       "      <td>-18.173690</td>\n",
       "      <td>(Atom('Cu', [1.8956307871401654, 1.99563078714...</td>\n",
       "      <td>0.0064</td>\n",
       "      <td>1.718218e+09</td>\n",
       "      <td>5.182523</td>\n",
       "      <td>5.182523</td>\n",
       "      <td>21.496896</td>\n",
       "      <td>90.0</td>\n",
       "      <td>CCu16O</td>\n",
       "      <td>(Atom('Cu', [1.895630787140176, 1.995630787140...</td>\n",
       "    </tr>\n",
       "    <tr>\n",
       "      <th>100-2x2x4-O</th>\n",
       "      <td>data/Cu/slabs/100/clean/2x2x4/O</td>\n",
       "      <td>100-2x2x4-O</td>\n",
       "      <td>[INCAR, out.txt, final.traj, ACF.dat, CONTCAR,...</td>\n",
       "      <td>-10.682109</td>\n",
       "      <td>(Atom('Cu', [1.2956307871401649, 1.29563078714...</td>\n",
       "      <td>0.0069</td>\n",
       "      <td>1.718219e+09</td>\n",
       "      <td>5.182523</td>\n",
       "      <td>5.182523</td>\n",
       "      <td>21.496896</td>\n",
       "      <td>90.0</td>\n",
       "      <td>Cu16O</td>\n",
       "      <td>(Atom('Cu', [1.2956307871401649, 1.29563078714...</td>\n",
       "    </tr>\n",
       "    <tr>\n",
       "      <th>100-2x2x4-H</th>\n",
       "      <td>data/Cu/slabs/100/clean/2x2x4/H</td>\n",
       "      <td>100-2x2x4-H</td>\n",
       "      <td>[INCAR, out.txt, final.traj, ACF.dat, CONTCAR,...</td>\n",
       "      <td>-8.968309</td>\n",
       "      <td>(Atom('Cu', [1.2956307871401649, 1.29563078714...</td>\n",
       "      <td>0.0073</td>\n",
       "      <td>1.718218e+09</td>\n",
       "      <td>5.182523</td>\n",
       "      <td>5.182523</td>\n",
       "      <td>21.496896</td>\n",
       "      <td>90.0</td>\n",
       "      <td>HCu16</td>\n",
       "      <td>(Atom('Cu', [1.2956307871401649, 1.29563078714...</td>\n",
       "    </tr>\n",
       "    <tr>\n",
       "      <th>100-2x2x4-OH-complete</th>\n",
       "      <td>data/Cu/slabs/100/clean/2x2x4/OH/complete</td>\n",
       "      <td>100-2x2x4-OH-complete</td>\n",
       "      <td>[vib.17y-.pckl, vib.17x+.pckl, vib.17z+.pckl, ...</td>\n",
       "      <td>-14.752907</td>\n",
       "      <td>(Atom('Cu', [1.2956307871401649, 1.29563078714...</td>\n",
       "      <td>0.0091</td>\n",
       "      <td>1.718219e+09</td>\n",
       "      <td>5.182523</td>\n",
       "      <td>5.182523</td>\n",
       "      <td>21.496896</td>\n",
       "      <td>90.0</td>\n",
       "      <td>HCu16O</td>\n",
       "      <td>(Atom('Cu', [1.2956307871401649, 1.29563078714...</td>\n",
       "    </tr>\n",
       "    <tr>\n",
       "      <th>100-2x2x4-OH-incomplete</th>\n",
       "      <td>data/Cu/slabs/100/clean/2x2x4/OH/incomplete</td>\n",
       "      <td>100-2x2x4-OH-incomplete</td>\n",
       "      <td>[vib.17y-.pckl, vib.17x+.pckl, vib.17z+.pckl, ...</td>\n",
       "      <td>-14.752907</td>\n",
       "      <td>(Atom('Cu', [1.2956307871401649, 1.29563078714...</td>\n",
       "      <td>0.0091</td>\n",
       "      <td>1.718219e+09</td>\n",
       "      <td>5.182523</td>\n",
       "      <td>5.182523</td>\n",
       "      <td>21.496896</td>\n",
       "      <td>90.0</td>\n",
       "      <td>HCu16O</td>\n",
       "      <td>(Atom('Cu', [1.2956307871401649, 1.29563078714...</td>\n",
       "    </tr>\n",
       "    <tr>\n",
       "      <th>100-2x2x4-OH-missmatch</th>\n",
       "      <td>data/Cu/slabs/100/clean/2x2x4/OH/missmatch</td>\n",
       "      <td>100-2x2x4-OH-missmatch</td>\n",
       "      <td>[INCAR, final.traj, CONTCAR]</td>\n",
       "      <td>-14.752907</td>\n",
       "      <td>(Atom('Cu', [1.2956307871401649, 1.29563078714...</td>\n",
       "      <td>0.0091</td>\n",
       "      <td>1.718219e+09</td>\n",
       "      <td>5.182523</td>\n",
       "      <td>5.182523</td>\n",
       "      <td>21.496896</td>\n",
       "      <td>90.0</td>\n",
       "      <td>HCu16O</td>\n",
       "      <td>(Atom('Cu', [1.2956307871401649, 1.29563078714...</td>\n",
       "    </tr>\n",
       "  </tbody>\n",
       "</table>\n",
       "</div>"
      ],
      "text/plain": [
       "                                                                Path  \\\n",
       "100-2x2x4                              data/Cu/slabs/100/clean/2x2x4   \n",
       "100-2x2x4-CO-1                    data/Cu/slabs/100/clean/2x2x4/CO/1   \n",
       "100-2x2x4-O                          data/Cu/slabs/100/clean/2x2x4/O   \n",
       "100-2x2x4-H                          data/Cu/slabs/100/clean/2x2x4/H   \n",
       "100-2x2x4-OH-complete      data/Cu/slabs/100/clean/2x2x4/OH/complete   \n",
       "100-2x2x4-OH-incomplete  data/Cu/slabs/100/clean/2x2x4/OH/incomplete   \n",
       "100-2x2x4-OH-missmatch    data/Cu/slabs/100/clean/2x2x4/OH/missmatch   \n",
       "\n",
       "                                            Name  \\\n",
       "100-2x2x4                              100-2x2x4   \n",
       "100-2x2x4-CO-1                    100-2x2x4-CO-1   \n",
       "100-2x2x4-O                          100-2x2x4-O   \n",
       "100-2x2x4-H                          100-2x2x4-H   \n",
       "100-2x2x4-OH-complete      100-2x2x4-OH-complete   \n",
       "100-2x2x4-OH-incomplete  100-2x2x4-OH-incomplete   \n",
       "100-2x2x4-OH-missmatch    100-2x2x4-OH-missmatch   \n",
       "\n",
       "                                                                     files  \\\n",
       "100-2x2x4                [INCAR, final.traj, CO, ACF.dat, CONTCAR, O, H...   \n",
       "100-2x2x4-CO-1           [vib.17y-.pckl, vib.17x+.pckl, vib.17z+.pckl, ...   \n",
       "100-2x2x4-O              [INCAR, out.txt, final.traj, ACF.dat, CONTCAR,...   \n",
       "100-2x2x4-H              [INCAR, out.txt, final.traj, ACF.dat, CONTCAR,...   \n",
       "100-2x2x4-OH-complete    [vib.17y-.pckl, vib.17x+.pckl, vib.17z+.pckl, ...   \n",
       "100-2x2x4-OH-incomplete  [vib.17y-.pckl, vib.17x+.pckl, vib.17z+.pckl, ...   \n",
       "100-2x2x4-OH-missmatch                        [INCAR, final.traj, CONTCAR]   \n",
       "\n",
       "                                 E  \\\n",
       "100-2x2x4                -5.510428   \n",
       "100-2x2x4-CO-1          -18.173690   \n",
       "100-2x2x4-O             -10.682109   \n",
       "100-2x2x4-H              -8.968309   \n",
       "100-2x2x4-OH-complete   -14.752907   \n",
       "100-2x2x4-OH-incomplete -14.752907   \n",
       "100-2x2x4-OH-missmatch  -14.752907   \n",
       "\n",
       "                                                                     struc  \\\n",
       "100-2x2x4                (Atom('Cu', [1.2956307871401649, 1.29563078714...   \n",
       "100-2x2x4-CO-1           (Atom('Cu', [1.8956307871401654, 1.99563078714...   \n",
       "100-2x2x4-O              (Atom('Cu', [1.2956307871401649, 1.29563078714...   \n",
       "100-2x2x4-H              (Atom('Cu', [1.2956307871401649, 1.29563078714...   \n",
       "100-2x2x4-OH-complete    (Atom('Cu', [1.2956307871401649, 1.29563078714...   \n",
       "100-2x2x4-OH-incomplete  (Atom('Cu', [1.2956307871401649, 1.29563078714...   \n",
       "100-2x2x4-OH-missmatch   (Atom('Cu', [1.2956307871401649, 1.29563078714...   \n",
       "\n",
       "                           fmax     timestamp         a         b          c  \\\n",
       "100-2x2x4                0.0081  1.718219e+09  5.182523  5.182523  21.496896   \n",
       "100-2x2x4-CO-1           0.0064  1.718218e+09  5.182523  5.182523  21.496896   \n",
       "100-2x2x4-O              0.0069  1.718219e+09  5.182523  5.182523  21.496896   \n",
       "100-2x2x4-H              0.0073  1.718218e+09  5.182523  5.182523  21.496896   \n",
       "100-2x2x4-OH-complete    0.0091  1.718219e+09  5.182523  5.182523  21.496896   \n",
       "100-2x2x4-OH-incomplete  0.0091  1.718219e+09  5.182523  5.182523  21.496896   \n",
       "100-2x2x4-OH-missmatch   0.0091  1.718219e+09  5.182523  5.182523  21.496896   \n",
       "\n",
       "                         gamma Formula  \\\n",
       "100-2x2x4                 90.0    Cu16   \n",
       "100-2x2x4-CO-1            90.0  CCu16O   \n",
       "100-2x2x4-O               90.0   Cu16O   \n",
       "100-2x2x4-H               90.0   HCu16   \n",
       "100-2x2x4-OH-complete     90.0  HCu16O   \n",
       "100-2x2x4-OH-incomplete   90.0  HCu16O   \n",
       "100-2x2x4-OH-missmatch    90.0  HCu16O   \n",
       "\n",
       "                                                                   CONTCAR  \n",
       "100-2x2x4                (Atom('Cu', [1.2956307871401649, 1.29563078714...  \n",
       "100-2x2x4-CO-1           (Atom('Cu', [1.895630787140176, 1.995630787140...  \n",
       "100-2x2x4-O              (Atom('Cu', [1.2956307871401649, 1.29563078714...  \n",
       "100-2x2x4-H              (Atom('Cu', [1.2956307871401649, 1.29563078714...  \n",
       "100-2x2x4-OH-complete    (Atom('Cu', [1.2956307871401649, 1.29563078714...  \n",
       "100-2x2x4-OH-incomplete  (Atom('Cu', [1.2956307871401649, 1.29563078714...  \n",
       "100-2x2x4-OH-missmatch   (Atom('Cu', [1.2956307871401649, 1.29563078714...  "
      ]
     },
     "execution_count": 33,
     "metadata": {},
     "output_type": "execute_result"
    }
   ],
   "source": [
    "converged(Cu_slabs) \n",
    "#gives you only the force converged calculations"
   ]
  },
  {
   "cell_type": "code",
   "execution_count": 34,
   "metadata": {},
   "outputs": [
    {
     "name": "stdout",
     "output_type": "stream",
     "text": [
      "0 atoms in: 100-2x2x4-OH-zeroAtoms\n"
     ]
    },
    {
     "data": {
      "text/plain": [
       "100-2x2x4-CO-1             12.842346\n",
       "100-2x2x4-OH-complete      13.754283\n",
       "100-2x2x4-OH-incomplete    13.754283\n",
       "100-2x2x4-OH-missmatch     13.754283\n",
       "100-2x2x4-H                14.915284\n",
       "Name: Vacuum, dtype: float64"
      ]
     },
     "execution_count": 34,
     "metadata": {},
     "output_type": "execute_result"
    }
   ],
   "source": [
    "\n",
    "Cu_slabs['Vacuum'] = Cu_slabs.apply(getVacuum, axis=1)\n",
    "\n",
    "#Return the Vacuum of all calculations which have a vacuum higher than 0 and smaller than 15\n",
    "Cu_slabs[(Cu_slabs.Vacuum < 15) & (Cu_slabs.Vacuum > 0)].sort_values('Vacuum').Vacuum"
   ]
  },
  {
   "cell_type": "markdown",
   "metadata": {},
   "source": [
    "## Filtering"
   ]
  },
  {
   "cell_type": "code",
   "execution_count": 35,
   "metadata": {},
   "outputs": [
    {
     "data": {
      "text/html": [
       "<div>\n",
       "<style scoped>\n",
       "    .dataframe tbody tr th:only-of-type {\n",
       "        vertical-align: middle;\n",
       "    }\n",
       "\n",
       "    .dataframe tbody tr th {\n",
       "        vertical-align: top;\n",
       "    }\n",
       "\n",
       "    .dataframe thead th {\n",
       "        text-align: right;\n",
       "    }\n",
       "</style>\n",
       "<table border=\"1\" class=\"dataframe\">\n",
       "  <thead>\n",
       "    <tr style=\"text-align: right;\">\n",
       "      <th></th>\n",
       "      <th>Path</th>\n",
       "      <th>Name</th>\n",
       "      <th>files</th>\n",
       "      <th>E</th>\n",
       "      <th>struc</th>\n",
       "      <th>fmax</th>\n",
       "      <th>timestamp</th>\n",
       "      <th>a</th>\n",
       "      <th>b</th>\n",
       "      <th>c</th>\n",
       "      <th>gamma</th>\n",
       "      <th>Formula</th>\n",
       "      <th>CONTCAR</th>\n",
       "      <th>Vacuum</th>\n",
       "    </tr>\n",
       "  </thead>\n",
       "  <tbody>\n",
       "    <tr>\n",
       "      <th>100-2x2x4-CO-1</th>\n",
       "      <td>data/Cu/slabs/100/clean/2x2x4/CO/1</td>\n",
       "      <td>100-2x2x4-CO-1</td>\n",
       "      <td>[vib.17y-.pckl, vib.17x+.pckl, vib.17z+.pckl, ...</td>\n",
       "      <td>-18.17369</td>\n",
       "      <td>(Atom('Cu', [1.8956307871401654, 1.99563078714...</td>\n",
       "      <td>0.0064</td>\n",
       "      <td>1.718218e+09</td>\n",
       "      <td>5.182523</td>\n",
       "      <td>5.182523</td>\n",
       "      <td>21.496896</td>\n",
       "      <td>90.0</td>\n",
       "      <td>CCu16O</td>\n",
       "      <td>(Atom('Cu', [1.895630787140176, 1.995630787140...</td>\n",
       "      <td>12.842346</td>\n",
       "    </tr>\n",
       "  </tbody>\n",
       "</table>\n",
       "</div>"
      ],
      "text/plain": [
       "                                              Path            Name  \\\n",
       "100-2x2x4-CO-1  data/Cu/slabs/100/clean/2x2x4/CO/1  100-2x2x4-CO-1   \n",
       "\n",
       "                                                            files         E  \\\n",
       "100-2x2x4-CO-1  [vib.17y-.pckl, vib.17x+.pckl, vib.17z+.pckl, ... -18.17369   \n",
       "\n",
       "                                                            struc    fmax  \\\n",
       "100-2x2x4-CO-1  (Atom('Cu', [1.8956307871401654, 1.99563078714...  0.0064   \n",
       "\n",
       "                   timestamp         a         b          c  gamma Formula  \\\n",
       "100-2x2x4-CO-1  1.718218e+09  5.182523  5.182523  21.496896   90.0  CCu16O   \n",
       "\n",
       "                                                          CONTCAR     Vacuum  \n",
       "100-2x2x4-CO-1  (Atom('Cu', [1.895630787140176, 1.995630787140...  12.842346  "
      ]
     },
     "execution_count": 35,
     "metadata": {},
     "output_type": "execute_result"
    }
   ],
   "source": [
    "#Not all calculations are always relevent.\n",
    "#If you would like to create a new frame with the filtered results assign it to a variable:\n",
    "CO = Cu_slabs[Cu_slabs.Name.str.contains('CO')]\n",
    "CO"
   ]
  },
  {
   "cell_type": "code",
   "execution_count": 36,
   "metadata": {},
   "outputs": [
    {
     "data": {
      "text/html": [
       "<div>\n",
       "<style scoped>\n",
       "    .dataframe tbody tr th:only-of-type {\n",
       "        vertical-align: middle;\n",
       "    }\n",
       "\n",
       "    .dataframe tbody tr th {\n",
       "        vertical-align: top;\n",
       "    }\n",
       "\n",
       "    .dataframe thead th {\n",
       "        text-align: right;\n",
       "    }\n",
       "</style>\n",
       "<table border=\"1\" class=\"dataframe\">\n",
       "  <thead>\n",
       "    <tr style=\"text-align: right;\">\n",
       "      <th></th>\n",
       "      <th>Path</th>\n",
       "      <th>Name</th>\n",
       "      <th>files</th>\n",
       "      <th>E</th>\n",
       "      <th>struc</th>\n",
       "      <th>fmax</th>\n",
       "      <th>timestamp</th>\n",
       "      <th>a</th>\n",
       "      <th>b</th>\n",
       "      <th>c</th>\n",
       "      <th>gamma</th>\n",
       "      <th>Formula</th>\n",
       "      <th>CONTCAR</th>\n",
       "      <th>Vacuum</th>\n",
       "    </tr>\n",
       "  </thead>\n",
       "  <tbody>\n",
       "    <tr>\n",
       "      <th>100-2x2x4</th>\n",
       "      <td>data/Cu/slabs/100/clean/2x2x4</td>\n",
       "      <td>100-2x2x4</td>\n",
       "      <td>[INCAR, final.traj, CO, ACF.dat, CONTCAR, O, H...</td>\n",
       "      <td>-5.510428</td>\n",
       "      <td>(Atom('Cu', [1.2956307871401649, 1.29563078714...</td>\n",
       "      <td>0.0081</td>\n",
       "      <td>1.718219e+09</td>\n",
       "      <td>5.182523</td>\n",
       "      <td>5.182523</td>\n",
       "      <td>21.496896</td>\n",
       "      <td>90.0</td>\n",
       "      <td>Cu16</td>\n",
       "      <td>(Atom('Cu', [1.2956307871401649, 1.29563078714...</td>\n",
       "      <td>16.030715</td>\n",
       "    </tr>\n",
       "    <tr>\n",
       "      <th>100-2x2x4-O</th>\n",
       "      <td>data/Cu/slabs/100/clean/2x2x4/O</td>\n",
       "      <td>100-2x2x4-O</td>\n",
       "      <td>[INCAR, out.txt, final.traj, ACF.dat, CONTCAR,...</td>\n",
       "      <td>-10.682109</td>\n",
       "      <td>(Atom('Cu', [1.2956307871401649, 1.29563078714...</td>\n",
       "      <td>0.0069</td>\n",
       "      <td>1.718219e+09</td>\n",
       "      <td>5.182523</td>\n",
       "      <td>5.182523</td>\n",
       "      <td>21.496896</td>\n",
       "      <td>90.0</td>\n",
       "      <td>Cu16O</td>\n",
       "      <td>(Atom('Cu', [1.2956307871401649, 1.29563078714...</td>\n",
       "      <td>15.229739</td>\n",
       "    </tr>\n",
       "    <tr>\n",
       "      <th>100-2x2x4-H</th>\n",
       "      <td>data/Cu/slabs/100/clean/2x2x4/H</td>\n",
       "      <td>100-2x2x4-H</td>\n",
       "      <td>[INCAR, out.txt, final.traj, ACF.dat, CONTCAR,...</td>\n",
       "      <td>-8.968309</td>\n",
       "      <td>(Atom('Cu', [1.2956307871401649, 1.29563078714...</td>\n",
       "      <td>0.0073</td>\n",
       "      <td>1.718218e+09</td>\n",
       "      <td>5.182523</td>\n",
       "      <td>5.182523</td>\n",
       "      <td>21.496896</td>\n",
       "      <td>90.0</td>\n",
       "      <td>HCu16</td>\n",
       "      <td>(Atom('Cu', [1.2956307871401649, 1.29563078714...</td>\n",
       "      <td>14.915284</td>\n",
       "    </tr>\n",
       "    <tr>\n",
       "      <th>100-2x2x4-OH-complete</th>\n",
       "      <td>data/Cu/slabs/100/clean/2x2x4/OH/complete</td>\n",
       "      <td>100-2x2x4-OH-complete</td>\n",
       "      <td>[vib.17y-.pckl, vib.17x+.pckl, vib.17z+.pckl, ...</td>\n",
       "      <td>-14.752907</td>\n",
       "      <td>(Atom('Cu', [1.2956307871401649, 1.29563078714...</td>\n",
       "      <td>0.0091</td>\n",
       "      <td>1.718219e+09</td>\n",
       "      <td>5.182523</td>\n",
       "      <td>5.182523</td>\n",
       "      <td>21.496896</td>\n",
       "      <td>90.0</td>\n",
       "      <td>HCu16O</td>\n",
       "      <td>(Atom('Cu', [1.2956307871401649, 1.29563078714...</td>\n",
       "      <td>13.754283</td>\n",
       "    </tr>\n",
       "    <tr>\n",
       "      <th>100-2x2x4-OH-incomplete</th>\n",
       "      <td>data/Cu/slabs/100/clean/2x2x4/OH/incomplete</td>\n",
       "      <td>100-2x2x4-OH-incomplete</td>\n",
       "      <td>[vib.17y-.pckl, vib.17x+.pckl, vib.17z+.pckl, ...</td>\n",
       "      <td>-14.752907</td>\n",
       "      <td>(Atom('Cu', [1.2956307871401649, 1.29563078714...</td>\n",
       "      <td>0.0091</td>\n",
       "      <td>1.718219e+09</td>\n",
       "      <td>5.182523</td>\n",
       "      <td>5.182523</td>\n",
       "      <td>21.496896</td>\n",
       "      <td>90.0</td>\n",
       "      <td>HCu16O</td>\n",
       "      <td>(Atom('Cu', [1.2956307871401649, 1.29563078714...</td>\n",
       "      <td>13.754283</td>\n",
       "    </tr>\n",
       "    <tr>\n",
       "      <th>100-2x2x4-OH-missmatch</th>\n",
       "      <td>data/Cu/slabs/100/clean/2x2x4/OH/missmatch</td>\n",
       "      <td>100-2x2x4-OH-missmatch</td>\n",
       "      <td>[INCAR, final.traj, CONTCAR]</td>\n",
       "      <td>-14.752907</td>\n",
       "      <td>(Atom('Cu', [1.2956307871401649, 1.29563078714...</td>\n",
       "      <td>0.0091</td>\n",
       "      <td>1.718219e+09</td>\n",
       "      <td>5.182523</td>\n",
       "      <td>5.182523</td>\n",
       "      <td>21.496896</td>\n",
       "      <td>90.0</td>\n",
       "      <td>HCu16O</td>\n",
       "      <td>(Atom('Cu', [1.2956307871401649, 1.29563078714...</td>\n",
       "      <td>13.754283</td>\n",
       "    </tr>\n",
       "    <tr>\n",
       "      <th>100-2x2x4-OH-zeroAtoms</th>\n",
       "      <td>data/Cu/slabs/100/clean/2x2x4/OH/zeroAtoms</td>\n",
       "      <td>100-2x2x4-OH-zeroAtoms</td>\n",
       "      <td>[out.txt, final.traj, CONTCAR]</td>\n",
       "      <td>0.000000</td>\n",
       "      <td>()</td>\n",
       "      <td>0.0000</td>\n",
       "      <td>1.698506e+09</td>\n",
       "      <td>0.000000</td>\n",
       "      <td>0.000000</td>\n",
       "      <td>0.000000</td>\n",
       "      <td>0.0</td>\n",
       "      <td>0</td>\n",
       "      <td>()</td>\n",
       "      <td>0.000000</td>\n",
       "    </tr>\n",
       "  </tbody>\n",
       "</table>\n",
       "</div>"
      ],
      "text/plain": [
       "                                                                Path  \\\n",
       "100-2x2x4                              data/Cu/slabs/100/clean/2x2x4   \n",
       "100-2x2x4-O                          data/Cu/slabs/100/clean/2x2x4/O   \n",
       "100-2x2x4-H                          data/Cu/slabs/100/clean/2x2x4/H   \n",
       "100-2x2x4-OH-complete      data/Cu/slabs/100/clean/2x2x4/OH/complete   \n",
       "100-2x2x4-OH-incomplete  data/Cu/slabs/100/clean/2x2x4/OH/incomplete   \n",
       "100-2x2x4-OH-missmatch    data/Cu/slabs/100/clean/2x2x4/OH/missmatch   \n",
       "100-2x2x4-OH-zeroAtoms    data/Cu/slabs/100/clean/2x2x4/OH/zeroAtoms   \n",
       "\n",
       "                                            Name  \\\n",
       "100-2x2x4                              100-2x2x4   \n",
       "100-2x2x4-O                          100-2x2x4-O   \n",
       "100-2x2x4-H                          100-2x2x4-H   \n",
       "100-2x2x4-OH-complete      100-2x2x4-OH-complete   \n",
       "100-2x2x4-OH-incomplete  100-2x2x4-OH-incomplete   \n",
       "100-2x2x4-OH-missmatch    100-2x2x4-OH-missmatch   \n",
       "100-2x2x4-OH-zeroAtoms    100-2x2x4-OH-zeroAtoms   \n",
       "\n",
       "                                                                     files  \\\n",
       "100-2x2x4                [INCAR, final.traj, CO, ACF.dat, CONTCAR, O, H...   \n",
       "100-2x2x4-O              [INCAR, out.txt, final.traj, ACF.dat, CONTCAR,...   \n",
       "100-2x2x4-H              [INCAR, out.txt, final.traj, ACF.dat, CONTCAR,...   \n",
       "100-2x2x4-OH-complete    [vib.17y-.pckl, vib.17x+.pckl, vib.17z+.pckl, ...   \n",
       "100-2x2x4-OH-incomplete  [vib.17y-.pckl, vib.17x+.pckl, vib.17z+.pckl, ...   \n",
       "100-2x2x4-OH-missmatch                        [INCAR, final.traj, CONTCAR]   \n",
       "100-2x2x4-OH-zeroAtoms                      [out.txt, final.traj, CONTCAR]   \n",
       "\n",
       "                                 E  \\\n",
       "100-2x2x4                -5.510428   \n",
       "100-2x2x4-O             -10.682109   \n",
       "100-2x2x4-H              -8.968309   \n",
       "100-2x2x4-OH-complete   -14.752907   \n",
       "100-2x2x4-OH-incomplete -14.752907   \n",
       "100-2x2x4-OH-missmatch  -14.752907   \n",
       "100-2x2x4-OH-zeroAtoms    0.000000   \n",
       "\n",
       "                                                                     struc  \\\n",
       "100-2x2x4                (Atom('Cu', [1.2956307871401649, 1.29563078714...   \n",
       "100-2x2x4-O              (Atom('Cu', [1.2956307871401649, 1.29563078714...   \n",
       "100-2x2x4-H              (Atom('Cu', [1.2956307871401649, 1.29563078714...   \n",
       "100-2x2x4-OH-complete    (Atom('Cu', [1.2956307871401649, 1.29563078714...   \n",
       "100-2x2x4-OH-incomplete  (Atom('Cu', [1.2956307871401649, 1.29563078714...   \n",
       "100-2x2x4-OH-missmatch   (Atom('Cu', [1.2956307871401649, 1.29563078714...   \n",
       "100-2x2x4-OH-zeroAtoms                                                  ()   \n",
       "\n",
       "                           fmax     timestamp         a         b          c  \\\n",
       "100-2x2x4                0.0081  1.718219e+09  5.182523  5.182523  21.496896   \n",
       "100-2x2x4-O              0.0069  1.718219e+09  5.182523  5.182523  21.496896   \n",
       "100-2x2x4-H              0.0073  1.718218e+09  5.182523  5.182523  21.496896   \n",
       "100-2x2x4-OH-complete    0.0091  1.718219e+09  5.182523  5.182523  21.496896   \n",
       "100-2x2x4-OH-incomplete  0.0091  1.718219e+09  5.182523  5.182523  21.496896   \n",
       "100-2x2x4-OH-missmatch   0.0091  1.718219e+09  5.182523  5.182523  21.496896   \n",
       "100-2x2x4-OH-zeroAtoms   0.0000  1.698506e+09  0.000000  0.000000   0.000000   \n",
       "\n",
       "                         gamma Formula  \\\n",
       "100-2x2x4                 90.0    Cu16   \n",
       "100-2x2x4-O               90.0   Cu16O   \n",
       "100-2x2x4-H               90.0   HCu16   \n",
       "100-2x2x4-OH-complete     90.0  HCu16O   \n",
       "100-2x2x4-OH-incomplete   90.0  HCu16O   \n",
       "100-2x2x4-OH-missmatch    90.0  HCu16O   \n",
       "100-2x2x4-OH-zeroAtoms     0.0       0   \n",
       "\n",
       "                                                                   CONTCAR  \\\n",
       "100-2x2x4                (Atom('Cu', [1.2956307871401649, 1.29563078714...   \n",
       "100-2x2x4-O              (Atom('Cu', [1.2956307871401649, 1.29563078714...   \n",
       "100-2x2x4-H              (Atom('Cu', [1.2956307871401649, 1.29563078714...   \n",
       "100-2x2x4-OH-complete    (Atom('Cu', [1.2956307871401649, 1.29563078714...   \n",
       "100-2x2x4-OH-incomplete  (Atom('Cu', [1.2956307871401649, 1.29563078714...   \n",
       "100-2x2x4-OH-missmatch   (Atom('Cu', [1.2956307871401649, 1.29563078714...   \n",
       "100-2x2x4-OH-zeroAtoms                                                  ()   \n",
       "\n",
       "                            Vacuum  \n",
       "100-2x2x4                16.030715  \n",
       "100-2x2x4-O              15.229739  \n",
       "100-2x2x4-H              14.915284  \n",
       "100-2x2x4-OH-complete    13.754283  \n",
       "100-2x2x4-OH-incomplete  13.754283  \n",
       "100-2x2x4-OH-missmatch   13.754283  \n",
       "100-2x2x4-OH-zeroAtoms    0.000000  "
      ]
     },
     "execution_count": 36,
     "metadata": {},
     "output_type": "execute_result"
    }
   ],
   "source": [
    "# The ~ is a NOT operator here. So all entries that do NOT contains test are shown:\n",
    "Cu_slabs[~Cu_slabs.Name.str.contains('CO')]\n"
   ]
  },
  {
   "cell_type": "markdown",
   "metadata": {},
   "source": [
    "## Adsorption energies"
   ]
  },
  {
   "cell_type": "markdown",
   "metadata": {},
   "source": [
    "##### To make a transparent and comprehensible calculation of adsorption energies, we add not just a columns with the adsorption energy but we add all values that are important for this step in individual columns:\n",
    "1. The name and from that \n",
    "2. the energy of the reference surface\n",
    "3. The name and from that\n",
    "4. the energy of the adsorbate molecule\n",
    "\n",
    "The energy can be the potential energy which is then just a float or it can be a function for the free energy with a variable of the Temperature. (e.g as sympy object). Then the final adsorption energy also becomes a function of the Temperature.\n",
    "\n",
    "In the folder structure as it is presented in the tests directory here, reference surface can be obtained by just cutting the part after the adosrbate molecule. e.g (100-clean-2x2x4-OH  ):\n",
    "\n",
    "Path to reference surface:  211-clean-3x3x4\n",
    "\n",
    "Path to adsorbate:          211-clean-3x3x4-OH-AA\n"
   ]
  },
  {
   "cell_type": "markdown",
   "metadata": {},
   "source": [
    "For the adsorbates it is a little more complex because we do not often have one single calculation that refers to the adsorbate. So we need a dictionary with the possible adsorbates and their respective energy. By creating different dictionaries references"
   ]
  },
  {
   "cell_type": "code",
   "execution_count": 37,
   "metadata": {},
   "outputs": [],
   "source": [
    "Gasreferences = {\n",
    "    \"OH\": Gas.loc[\"H2O\"][\"E\"] - Gas.loc[\"H2\"][\"E\"] / 2,\n",
    "    \"CO\": Gas.loc[\"CO\"][\"E\"],\n",
    "    \"H\": Gas.loc[\"H2\"][\"E\"] / 2,\n",
    "    \"O\": Gas.loc[\"H2O\"][\"E\"] - Gas.loc[\"H2\"][\"E\"],\n",
    "}\n"
   ]
  },
  {
   "cell_type": "code",
   "execution_count": 38,
   "metadata": {},
   "outputs": [],
   "source": [
    "def get_adsorbate_and_surface_ref(row, Gasreferences):\n",
    "    ''' return adsorbate and reference surface'''\n",
    "    Name = row.Name\n",
    "    for adsorbate in Gasreferences.keys():\n",
    "        if \"-\" + adsorbate + \"-\" in Name:\n",
    "            '''if adsorbate is in the Name: -OH-'''\n",
    "            surface_ref = Name.split('-'+adsorbate+'-')[0]\n",
    "            return adsorbate, surface_ref\n",
    "        elif Name.endswith(\"-\" + adsorbate):\n",
    "            '''if Name ends with the adsorbate: -OH '''\n",
    "            surface_ref = Name.split('-'+adsorbate)[0]\n",
    "            return adsorbate, surface_ref\n",
    "        elif \"-\" + adsorbate + \"x\" in Name:\n",
    "            '''if -OHx2 the adsorbate appears twice'''\n",
    "            surface_ref = Name.split('-'+adsorbate+'x')[0]\n",
    "            return adsorbate, surface_ref\n",
    "        else:\n",
    "            continue\n",
    "    logging.info('no adsorbate' + Name)\n",
    "    return NaN, NaN\n",
    "\n",
    "\n",
    "def add_surface_ref(Frame, Gasreferences):\n",
    "    Frame['adsorbate'], Frame['surface_ref'] = zip(*Frame.apply(get_adsorbate_and_surface_ref, args=[Gasreferences], axis=1))\n",
    "    return Frame\n",
    "\n",
    "### OR ###\n"
   ]
  },
  {
   "cell_type": "code",
   "execution_count": 39,
   "metadata": {},
   "outputs": [
    {
     "data": {
      "text/html": [
       "<div>\n",
       "<style scoped>\n",
       "    .dataframe tbody tr th:only-of-type {\n",
       "        vertical-align: middle;\n",
       "    }\n",
       "\n",
       "    .dataframe tbody tr th {\n",
       "        vertical-align: top;\n",
       "    }\n",
       "\n",
       "    .dataframe thead th {\n",
       "        text-align: right;\n",
       "    }\n",
       "</style>\n",
       "<table border=\"1\" class=\"dataframe\">\n",
       "  <thead>\n",
       "    <tr style=\"text-align: right;\">\n",
       "      <th></th>\n",
       "      <th>Path</th>\n",
       "      <th>Name</th>\n",
       "      <th>files</th>\n",
       "      <th>E</th>\n",
       "      <th>struc</th>\n",
       "      <th>fmax</th>\n",
       "      <th>timestamp</th>\n",
       "      <th>a</th>\n",
       "      <th>b</th>\n",
       "      <th>c</th>\n",
       "      <th>gamma</th>\n",
       "      <th>Formula</th>\n",
       "      <th>CONTCAR</th>\n",
       "      <th>Vacuum</th>\n",
       "      <th>adsorbate</th>\n",
       "      <th>surface_ref</th>\n",
       "    </tr>\n",
       "  </thead>\n",
       "  <tbody>\n",
       "    <tr>\n",
       "      <th>100-2x2x4</th>\n",
       "      <td>data/Cu/slabs/100/clean/2x2x4</td>\n",
       "      <td>100-2x2x4</td>\n",
       "      <td>[INCAR, final.traj, CO, ACF.dat, CONTCAR, O, H...</td>\n",
       "      <td>-5.510428</td>\n",
       "      <td>(Atom('Cu', [1.2956307871401649, 1.29563078714...</td>\n",
       "      <td>0.0081</td>\n",
       "      <td>1.718219e+09</td>\n",
       "      <td>5.182523</td>\n",
       "      <td>5.182523</td>\n",
       "      <td>21.496896</td>\n",
       "      <td>90.0</td>\n",
       "      <td>Cu16</td>\n",
       "      <td>(Atom('Cu', [1.2956307871401649, 1.29563078714...</td>\n",
       "      <td>16.030715</td>\n",
       "      <td>NaN</td>\n",
       "      <td>NaN</td>\n",
       "    </tr>\n",
       "    <tr>\n",
       "      <th>100-2x2x4-CO-1</th>\n",
       "      <td>data/Cu/slabs/100/clean/2x2x4/CO/1</td>\n",
       "      <td>100-2x2x4-CO-1</td>\n",
       "      <td>[vib.17y-.pckl, vib.17x+.pckl, vib.17z+.pckl, ...</td>\n",
       "      <td>-18.173690</td>\n",
       "      <td>(Atom('Cu', [1.8956307871401654, 1.99563078714...</td>\n",
       "      <td>0.0064</td>\n",
       "      <td>1.718218e+09</td>\n",
       "      <td>5.182523</td>\n",
       "      <td>5.182523</td>\n",
       "      <td>21.496896</td>\n",
       "      <td>90.0</td>\n",
       "      <td>CCu16O</td>\n",
       "      <td>(Atom('Cu', [1.895630787140176, 1.995630787140...</td>\n",
       "      <td>12.842346</td>\n",
       "      <td>CO</td>\n",
       "      <td>100-2x2x4</td>\n",
       "    </tr>\n",
       "    <tr>\n",
       "      <th>100-2x2x4-O</th>\n",
       "      <td>data/Cu/slabs/100/clean/2x2x4/O</td>\n",
       "      <td>100-2x2x4-O</td>\n",
       "      <td>[INCAR, out.txt, final.traj, ACF.dat, CONTCAR,...</td>\n",
       "      <td>-10.682109</td>\n",
       "      <td>(Atom('Cu', [1.2956307871401649, 1.29563078714...</td>\n",
       "      <td>0.0069</td>\n",
       "      <td>1.718219e+09</td>\n",
       "      <td>5.182523</td>\n",
       "      <td>5.182523</td>\n",
       "      <td>21.496896</td>\n",
       "      <td>90.0</td>\n",
       "      <td>Cu16O</td>\n",
       "      <td>(Atom('Cu', [1.2956307871401649, 1.29563078714...</td>\n",
       "      <td>15.229739</td>\n",
       "      <td>O</td>\n",
       "      <td>100-2x2x4</td>\n",
       "    </tr>\n",
       "    <tr>\n",
       "      <th>100-2x2x4-H</th>\n",
       "      <td>data/Cu/slabs/100/clean/2x2x4/H</td>\n",
       "      <td>100-2x2x4-H</td>\n",
       "      <td>[INCAR, out.txt, final.traj, ACF.dat, CONTCAR,...</td>\n",
       "      <td>-8.968309</td>\n",
       "      <td>(Atom('Cu', [1.2956307871401649, 1.29563078714...</td>\n",
       "      <td>0.0073</td>\n",
       "      <td>1.718218e+09</td>\n",
       "      <td>5.182523</td>\n",
       "      <td>5.182523</td>\n",
       "      <td>21.496896</td>\n",
       "      <td>90.0</td>\n",
       "      <td>HCu16</td>\n",
       "      <td>(Atom('Cu', [1.2956307871401649, 1.29563078714...</td>\n",
       "      <td>14.915284</td>\n",
       "      <td>H</td>\n",
       "      <td>100-2x2x4</td>\n",
       "    </tr>\n",
       "    <tr>\n",
       "      <th>100-2x2x4-OH-complete</th>\n",
       "      <td>data/Cu/slabs/100/clean/2x2x4/OH/complete</td>\n",
       "      <td>100-2x2x4-OH-complete</td>\n",
       "      <td>[vib.17y-.pckl, vib.17x+.pckl, vib.17z+.pckl, ...</td>\n",
       "      <td>-14.752907</td>\n",
       "      <td>(Atom('Cu', [1.2956307871401649, 1.29563078714...</td>\n",
       "      <td>0.0091</td>\n",
       "      <td>1.718219e+09</td>\n",
       "      <td>5.182523</td>\n",
       "      <td>5.182523</td>\n",
       "      <td>21.496896</td>\n",
       "      <td>90.0</td>\n",
       "      <td>HCu16O</td>\n",
       "      <td>(Atom('Cu', [1.2956307871401649, 1.29563078714...</td>\n",
       "      <td>13.754283</td>\n",
       "      <td>OH</td>\n",
       "      <td>100-2x2x4</td>\n",
       "    </tr>\n",
       "    <tr>\n",
       "      <th>100-2x2x4-OH-incomplete</th>\n",
       "      <td>data/Cu/slabs/100/clean/2x2x4/OH/incomplete</td>\n",
       "      <td>100-2x2x4-OH-incomplete</td>\n",
       "      <td>[vib.17y-.pckl, vib.17x+.pckl, vib.17z+.pckl, ...</td>\n",
       "      <td>-14.752907</td>\n",
       "      <td>(Atom('Cu', [1.2956307871401649, 1.29563078714...</td>\n",
       "      <td>0.0091</td>\n",
       "      <td>1.718219e+09</td>\n",
       "      <td>5.182523</td>\n",
       "      <td>5.182523</td>\n",
       "      <td>21.496896</td>\n",
       "      <td>90.0</td>\n",
       "      <td>HCu16O</td>\n",
       "      <td>(Atom('Cu', [1.2956307871401649, 1.29563078714...</td>\n",
       "      <td>13.754283</td>\n",
       "      <td>OH</td>\n",
       "      <td>100-2x2x4</td>\n",
       "    </tr>\n",
       "    <tr>\n",
       "      <th>100-2x2x4-OH-missmatch</th>\n",
       "      <td>data/Cu/slabs/100/clean/2x2x4/OH/missmatch</td>\n",
       "      <td>100-2x2x4-OH-missmatch</td>\n",
       "      <td>[INCAR, final.traj, CONTCAR]</td>\n",
       "      <td>-14.752907</td>\n",
       "      <td>(Atom('Cu', [1.2956307871401649, 1.29563078714...</td>\n",
       "      <td>0.0091</td>\n",
       "      <td>1.718219e+09</td>\n",
       "      <td>5.182523</td>\n",
       "      <td>5.182523</td>\n",
       "      <td>21.496896</td>\n",
       "      <td>90.0</td>\n",
       "      <td>HCu16O</td>\n",
       "      <td>(Atom('Cu', [1.2956307871401649, 1.29563078714...</td>\n",
       "      <td>13.754283</td>\n",
       "      <td>OH</td>\n",
       "      <td>100-2x2x4</td>\n",
       "    </tr>\n",
       "    <tr>\n",
       "      <th>100-2x2x4-OH-zeroAtoms</th>\n",
       "      <td>data/Cu/slabs/100/clean/2x2x4/OH/zeroAtoms</td>\n",
       "      <td>100-2x2x4-OH-zeroAtoms</td>\n",
       "      <td>[out.txt, final.traj, CONTCAR]</td>\n",
       "      <td>0.000000</td>\n",
       "      <td>()</td>\n",
       "      <td>0.0000</td>\n",
       "      <td>1.698506e+09</td>\n",
       "      <td>0.000000</td>\n",
       "      <td>0.000000</td>\n",
       "      <td>0.000000</td>\n",
       "      <td>0.0</td>\n",
       "      <td>0</td>\n",
       "      <td>()</td>\n",
       "      <td>0.000000</td>\n",
       "      <td>OH</td>\n",
       "      <td>100-2x2x4</td>\n",
       "    </tr>\n",
       "  </tbody>\n",
       "</table>\n",
       "</div>"
      ],
      "text/plain": [
       "                                                                Path  \\\n",
       "100-2x2x4                              data/Cu/slabs/100/clean/2x2x4   \n",
       "100-2x2x4-CO-1                    data/Cu/slabs/100/clean/2x2x4/CO/1   \n",
       "100-2x2x4-O                          data/Cu/slabs/100/clean/2x2x4/O   \n",
       "100-2x2x4-H                          data/Cu/slabs/100/clean/2x2x4/H   \n",
       "100-2x2x4-OH-complete      data/Cu/slabs/100/clean/2x2x4/OH/complete   \n",
       "100-2x2x4-OH-incomplete  data/Cu/slabs/100/clean/2x2x4/OH/incomplete   \n",
       "100-2x2x4-OH-missmatch    data/Cu/slabs/100/clean/2x2x4/OH/missmatch   \n",
       "100-2x2x4-OH-zeroAtoms    data/Cu/slabs/100/clean/2x2x4/OH/zeroAtoms   \n",
       "\n",
       "                                            Name  \\\n",
       "100-2x2x4                              100-2x2x4   \n",
       "100-2x2x4-CO-1                    100-2x2x4-CO-1   \n",
       "100-2x2x4-O                          100-2x2x4-O   \n",
       "100-2x2x4-H                          100-2x2x4-H   \n",
       "100-2x2x4-OH-complete      100-2x2x4-OH-complete   \n",
       "100-2x2x4-OH-incomplete  100-2x2x4-OH-incomplete   \n",
       "100-2x2x4-OH-missmatch    100-2x2x4-OH-missmatch   \n",
       "100-2x2x4-OH-zeroAtoms    100-2x2x4-OH-zeroAtoms   \n",
       "\n",
       "                                                                     files  \\\n",
       "100-2x2x4                [INCAR, final.traj, CO, ACF.dat, CONTCAR, O, H...   \n",
       "100-2x2x4-CO-1           [vib.17y-.pckl, vib.17x+.pckl, vib.17z+.pckl, ...   \n",
       "100-2x2x4-O              [INCAR, out.txt, final.traj, ACF.dat, CONTCAR,...   \n",
       "100-2x2x4-H              [INCAR, out.txt, final.traj, ACF.dat, CONTCAR,...   \n",
       "100-2x2x4-OH-complete    [vib.17y-.pckl, vib.17x+.pckl, vib.17z+.pckl, ...   \n",
       "100-2x2x4-OH-incomplete  [vib.17y-.pckl, vib.17x+.pckl, vib.17z+.pckl, ...   \n",
       "100-2x2x4-OH-missmatch                        [INCAR, final.traj, CONTCAR]   \n",
       "100-2x2x4-OH-zeroAtoms                      [out.txt, final.traj, CONTCAR]   \n",
       "\n",
       "                                 E  \\\n",
       "100-2x2x4                -5.510428   \n",
       "100-2x2x4-CO-1          -18.173690   \n",
       "100-2x2x4-O             -10.682109   \n",
       "100-2x2x4-H              -8.968309   \n",
       "100-2x2x4-OH-complete   -14.752907   \n",
       "100-2x2x4-OH-incomplete -14.752907   \n",
       "100-2x2x4-OH-missmatch  -14.752907   \n",
       "100-2x2x4-OH-zeroAtoms    0.000000   \n",
       "\n",
       "                                                                     struc  \\\n",
       "100-2x2x4                (Atom('Cu', [1.2956307871401649, 1.29563078714...   \n",
       "100-2x2x4-CO-1           (Atom('Cu', [1.8956307871401654, 1.99563078714...   \n",
       "100-2x2x4-O              (Atom('Cu', [1.2956307871401649, 1.29563078714...   \n",
       "100-2x2x4-H              (Atom('Cu', [1.2956307871401649, 1.29563078714...   \n",
       "100-2x2x4-OH-complete    (Atom('Cu', [1.2956307871401649, 1.29563078714...   \n",
       "100-2x2x4-OH-incomplete  (Atom('Cu', [1.2956307871401649, 1.29563078714...   \n",
       "100-2x2x4-OH-missmatch   (Atom('Cu', [1.2956307871401649, 1.29563078714...   \n",
       "100-2x2x4-OH-zeroAtoms                                                  ()   \n",
       "\n",
       "                           fmax     timestamp         a         b          c  \\\n",
       "100-2x2x4                0.0081  1.718219e+09  5.182523  5.182523  21.496896   \n",
       "100-2x2x4-CO-1           0.0064  1.718218e+09  5.182523  5.182523  21.496896   \n",
       "100-2x2x4-O              0.0069  1.718219e+09  5.182523  5.182523  21.496896   \n",
       "100-2x2x4-H              0.0073  1.718218e+09  5.182523  5.182523  21.496896   \n",
       "100-2x2x4-OH-complete    0.0091  1.718219e+09  5.182523  5.182523  21.496896   \n",
       "100-2x2x4-OH-incomplete  0.0091  1.718219e+09  5.182523  5.182523  21.496896   \n",
       "100-2x2x4-OH-missmatch   0.0091  1.718219e+09  5.182523  5.182523  21.496896   \n",
       "100-2x2x4-OH-zeroAtoms   0.0000  1.698506e+09  0.000000  0.000000   0.000000   \n",
       "\n",
       "                         gamma Formula  \\\n",
       "100-2x2x4                 90.0    Cu16   \n",
       "100-2x2x4-CO-1            90.0  CCu16O   \n",
       "100-2x2x4-O               90.0   Cu16O   \n",
       "100-2x2x4-H               90.0   HCu16   \n",
       "100-2x2x4-OH-complete     90.0  HCu16O   \n",
       "100-2x2x4-OH-incomplete   90.0  HCu16O   \n",
       "100-2x2x4-OH-missmatch    90.0  HCu16O   \n",
       "100-2x2x4-OH-zeroAtoms     0.0       0   \n",
       "\n",
       "                                                                   CONTCAR  \\\n",
       "100-2x2x4                (Atom('Cu', [1.2956307871401649, 1.29563078714...   \n",
       "100-2x2x4-CO-1           (Atom('Cu', [1.895630787140176, 1.995630787140...   \n",
       "100-2x2x4-O              (Atom('Cu', [1.2956307871401649, 1.29563078714...   \n",
       "100-2x2x4-H              (Atom('Cu', [1.2956307871401649, 1.29563078714...   \n",
       "100-2x2x4-OH-complete    (Atom('Cu', [1.2956307871401649, 1.29563078714...   \n",
       "100-2x2x4-OH-incomplete  (Atom('Cu', [1.2956307871401649, 1.29563078714...   \n",
       "100-2x2x4-OH-missmatch   (Atom('Cu', [1.2956307871401649, 1.29563078714...   \n",
       "100-2x2x4-OH-zeroAtoms                                                  ()   \n",
       "\n",
       "                            Vacuum adsorbate surface_ref  \n",
       "100-2x2x4                16.030715       NaN         NaN  \n",
       "100-2x2x4-CO-1           12.842346        CO   100-2x2x4  \n",
       "100-2x2x4-O              15.229739         O   100-2x2x4  \n",
       "100-2x2x4-H              14.915284         H   100-2x2x4  \n",
       "100-2x2x4-OH-complete    13.754283        OH   100-2x2x4  \n",
       "100-2x2x4-OH-incomplete  13.754283        OH   100-2x2x4  \n",
       "100-2x2x4-OH-missmatch   13.754283        OH   100-2x2x4  \n",
       "100-2x2x4-OH-zeroAtoms    0.000000        OH   100-2x2x4  "
      ]
     },
     "execution_count": 39,
     "metadata": {},
     "output_type": "execute_result"
    }
   ],
   "source": [
    "Cu_slabs = add_surface_ref(Cu_slabs, Gasreferences)\n",
    "Cu_slabs[['surface_ref', 'adsorbate']]\n",
    "### OR ###\n",
    "Cu_slabs"
   ]
  },
  {
   "cell_type": "code",
   "execution_count": 40,
   "metadata": {},
   "outputs": [
    {
     "name": "stderr",
     "output_type": "stream",
     "text": [
      "ERROR:root:nanKeyError not in Gasreferences\n",
      "ERROR:root:nanKeyError not in surface references\n"
     ]
    },
    {
     "data": {
      "text/html": [
       "<div>\n",
       "<style scoped>\n",
       "    .dataframe tbody tr th:only-of-type {\n",
       "        vertical-align: middle;\n",
       "    }\n",
       "\n",
       "    .dataframe tbody tr th {\n",
       "        vertical-align: top;\n",
       "    }\n",
       "\n",
       "    .dataframe thead th {\n",
       "        text-align: right;\n",
       "    }\n",
       "</style>\n",
       "<table border=\"1\" class=\"dataframe\">\n",
       "  <thead>\n",
       "    <tr style=\"text-align: right;\">\n",
       "      <th></th>\n",
       "      <th>E</th>\n",
       "      <th>adsorbate_E</th>\n",
       "      <th>surface_ref_E</th>\n",
       "      <th>ads_E</th>\n",
       "    </tr>\n",
       "  </thead>\n",
       "  <tbody>\n",
       "    <tr>\n",
       "      <th>100-2x2x4</th>\n",
       "      <td>-5.510428</td>\n",
       "      <td>NaN</td>\n",
       "      <td>NaN</td>\n",
       "      <td>NaN</td>\n",
       "    </tr>\n",
       "    <tr>\n",
       "      <th>100-2x2x4-CO-1</th>\n",
       "      <td>-18.173690</td>\n",
       "      <td>-12.064823</td>\n",
       "      <td>-5.510428</td>\n",
       "      <td>-0.598439</td>\n",
       "    </tr>\n",
       "    <tr>\n",
       "      <th>100-2x2x4-O</th>\n",
       "      <td>-10.682109</td>\n",
       "      <td>-5.646424</td>\n",
       "      <td>-5.510428</td>\n",
       "      <td>0.474743</td>\n",
       "    </tr>\n",
       "    <tr>\n",
       "      <th>100-2x2x4-H</th>\n",
       "      <td>-8.968309</td>\n",
       "      <td>-3.581935</td>\n",
       "      <td>-5.510428</td>\n",
       "      <td>0.124054</td>\n",
       "    </tr>\n",
       "    <tr>\n",
       "      <th>100-2x2x4-OH-complete</th>\n",
       "      <td>-14.752907</td>\n",
       "      <td>-9.228359</td>\n",
       "      <td>-5.510428</td>\n",
       "      <td>-0.014120</td>\n",
       "    </tr>\n",
       "    <tr>\n",
       "      <th>100-2x2x4-OH-incomplete</th>\n",
       "      <td>-14.752907</td>\n",
       "      <td>-9.228359</td>\n",
       "      <td>-5.510428</td>\n",
       "      <td>-0.014120</td>\n",
       "    </tr>\n",
       "    <tr>\n",
       "      <th>100-2x2x4-OH-missmatch</th>\n",
       "      <td>-14.752907</td>\n",
       "      <td>-9.228359</td>\n",
       "      <td>-5.510428</td>\n",
       "      <td>-0.014120</td>\n",
       "    </tr>\n",
       "    <tr>\n",
       "      <th>100-2x2x4-OH-zeroAtoms</th>\n",
       "      <td>0.000000</td>\n",
       "      <td>-9.228359</td>\n",
       "      <td>-5.510428</td>\n",
       "      <td>14.738787</td>\n",
       "    </tr>\n",
       "  </tbody>\n",
       "</table>\n",
       "</div>"
      ],
      "text/plain": [
       "                                 E  adsorbate_E  surface_ref_E      ads_E\n",
       "100-2x2x4                -5.510428          NaN            NaN        NaN\n",
       "100-2x2x4-CO-1          -18.173690   -12.064823      -5.510428  -0.598439\n",
       "100-2x2x4-O             -10.682109    -5.646424      -5.510428   0.474743\n",
       "100-2x2x4-H              -8.968309    -3.581935      -5.510428   0.124054\n",
       "100-2x2x4-OH-complete   -14.752907    -9.228359      -5.510428  -0.014120\n",
       "100-2x2x4-OH-incomplete -14.752907    -9.228359      -5.510428  -0.014120\n",
       "100-2x2x4-OH-missmatch  -14.752907    -9.228359      -5.510428  -0.014120\n",
       "100-2x2x4-OH-zeroAtoms    0.000000    -9.228359      -5.510428  14.738787"
      ]
     },
     "execution_count": 40,
     "metadata": {},
     "output_type": "execute_result"
    }
   ],
   "source": [
    "def get_ads_and_ref_energies(row, Gasreferences, surface_reference, adsorbate_col='adsorbate', surface_ref_col='surface_ref'):\n",
    "    ''' return adsorbate and reference surface energies'''\n",
    "    ads = row[adsorbate_col]\n",
    "    ref = row[surface_ref_col]\n",
    "#    adsE = Gasreferences[ads].E \n",
    "\n",
    "    try:\n",
    "        adsE = Gasreferences[ads]\n",
    "    except KeyError:\n",
    "        logging.error(str(ads) + 'KeyError not in Gasreferences')\n",
    "        adsE = NaN\n",
    "    except AttributeError:\n",
    "        adsE = NaN\n",
    "    except Exception:\n",
    "        logging.error(str(ads) + 'Exception not in Gasreferences')\n",
    "        adsE = NaN\n",
    "    try:\n",
    "        surfE = surface_reference.loc[ref].E\n",
    "    except KeyError:\n",
    "        logging.error(str(ref) + 'KeyError not in surface references')\n",
    "        surfE = NaN\n",
    "    except AttributeError:\n",
    "        surfE = NaN\n",
    "    except Exception:\n",
    "        surfE = NaN\n",
    "        logging.error(ref + '= not in surface references')\n",
    "    return adsE, surfE\n",
    "\n",
    "\n",
    "def add_adsorbate_and_ref_energies(Frame, Gasreferences, surface_references):\n",
    "    Frame['adsorbate_E'], Frame['surface_ref_E'] = zip(*Frame.apply(get_ads_and_ref_energies, args=[Gasreferences, surface_references], axis=1))\n",
    "    return Frame\n",
    "\n",
    "\n",
    "Cu_slabs =  add_adsorbate_and_ref_energies(Cu_slabs, Gasreferences, Cu_slabs)# The Frame with the Adsorbates and the Frame with the surface references are the same in this case.\n",
    "Cu_slabs['ads_E'] = Cu_slabs.E  - Cu_slabs['adsorbate_E'] - Cu_slabs['surface_ref_E']\n",
    "Cu_slabs[['E', 'adsorbate_E', 'surface_ref_E', 'ads_E']]"
   ]
  },
  {
   "cell_type": "markdown",
   "metadata": {},
   "source": [
    "# Frequencies"
   ]
  },
  {
   "cell_type": "code",
   "execution_count": 41,
   "metadata": {},
   "outputs": [
    {
     "data": {
      "text/plain": [
       "100-2x2x4                                             []\n",
       "100-2x2x4-CO-1             [2020.5, 293.3, 243.7, 241.7]\n",
       "100-2x2x4-O                        [319.1, 317.8, 297.1]\n",
       "100-2x2x4-H                      [1178.7, 1134.1, 236.5]\n",
       "100-2x2x4-OH-complete      [3706.3, 583.8, 520.2, 332.8]\n",
       "100-2x2x4-OH-incomplete                               []\n",
       "100-2x2x4-OH-missmatch                                []\n",
       "100-2x2x4-OH-zeroAtoms                                []\n",
       "Name: Frequency, dtype: object"
      ]
     },
     "execution_count": 41,
     "metadata": {},
     "output_type": "execute_result"
    }
   ],
   "source": [
    "#Frequency is a function that takes a DataFrame and will read the frequencies in vib.xyz and a column 'Frequencies' with the found data.\n",
    "Frequency(Cu_slabs)\n",
    "# The Frame has a new column \"Frequency\":\n",
    "Cu_slabs[\"Frequency\"]"
   ]
  },
  {
   "cell_type": "code",
   "execution_count": 42,
   "metadata": {},
   "outputs": [
    {
     "data": {
      "text/plain": [
       "Series([], Name: Imaginary, dtype: object)"
      ]
     },
     "execution_count": 42,
     "metadata": {},
     "output_type": "execute_result"
    }
   ],
   "source": [
    "#Imaginary is a function that looks at the Frequency columns and returns the imaginary frequencies\n",
    "Imaginary(Cu_slabs)"
   ]
  },
  {
   "cell_type": "markdown",
   "metadata": {},
   "source": [
    "## Delta ads free G "
   ]
  },
  {
   "cell_type": "markdown",
   "metadata": {},
   "source": [
    "##### Instead of the pure energy we will use a sympy object which contains a mathematical funtion of the Temperature"
   ]
  },
  {
   "cell_type": "code",
   "execution_count": 43,
   "metadata": {},
   "outputs": [
    {
     "name": "stdout",
     "output_type": "stream",
     "text": [
      "data/Cu/slabs/100/clean/2x2x4 \n",
      " no file\n",
      "data/Cu/slabs/100/clean/2x2x4/OH/complete \n",
      " {}\n",
      "data/Cu/slabs/100/clean/2x2x4/OH/incomplete \n",
      " {}\n",
      "data/Cu/slabs/100/clean/2x2x4/OH/missmatch \n",
      " no file\n",
      "data/Cu/slabs/100/clean/2x2x4/OH/zeroAtoms \n",
      " {}\n"
     ]
    },
    {
     "data": {
      "text/html": [
       "<div>\n",
       "<style scoped>\n",
       "    .dataframe tbody tr th:only-of-type {\n",
       "        vertical-align: middle;\n",
       "    }\n",
       "\n",
       "    .dataframe tbody tr th {\n",
       "        vertical-align: top;\n",
       "    }\n",
       "\n",
       "    .dataframe thead th {\n",
       "        text-align: right;\n",
       "    }\n",
       "</style>\n",
       "<table border=\"1\" class=\"dataframe\">\n",
       "  <thead>\n",
       "    <tr style=\"text-align: right;\">\n",
       "      <th></th>\n",
       "      <th>E_pot</th>\n",
       "      <th>E_ZPE</th>\n",
       "      <th>Cv_trans</th>\n",
       "      <th>Cv_rot</th>\n",
       "      <th>Cv_vib</th>\n",
       "      <th>C_vtoC_p</th>\n",
       "      <th>S_trans</th>\n",
       "      <th>S_rot</th>\n",
       "      <th>S_elec</th>\n",
       "      <th>S_vib</th>\n",
       "      <th>Sbar</th>\n",
       "      <th>S</th>\n",
       "    </tr>\n",
       "  </thead>\n",
       "  <tbody>\n",
       "    <tr>\n",
       "      <th>100-2x2x4</th>\n",
       "      <td>NaN</td>\n",
       "      <td>NaN</td>\n",
       "      <td>NaN</td>\n",
       "      <td>NaN</td>\n",
       "      <td>NaN</td>\n",
       "      <td>NaN</td>\n",
       "      <td>NaN</td>\n",
       "      <td>NaN</td>\n",
       "      <td>NaN</td>\n",
       "      <td>NaN</td>\n",
       "      <td>NaN</td>\n",
       "      <td>NaN</td>\n",
       "    </tr>\n",
       "    <tr>\n",
       "      <th>100-2x2x4-CO-1</th>\n",
       "      <td>-18.174</td>\n",
       "      <td>0.176</td>\n",
       "      <td>0.065</td>\n",
       "      <td>0.065</td>\n",
       "      <td>0.171</td>\n",
       "      <td>0.043</td>\n",
       "      <td>0.002138</td>\n",
       "      <td>0.001695</td>\n",
       "      <td>0.0</td>\n",
       "      <td>0.001045</td>\n",
       "      <td>-0.000001</td>\n",
       "      <td>0.004877</td>\n",
       "    </tr>\n",
       "    <tr>\n",
       "      <th>100-2x2x4-O</th>\n",
       "      <td>-10.682</td>\n",
       "      <td>0.058</td>\n",
       "      <td>0.065</td>\n",
       "      <td>0.065</td>\n",
       "      <td>0.080</td>\n",
       "      <td>0.043</td>\n",
       "      <td>0.002137</td>\n",
       "      <td>0.001687</td>\n",
       "      <td>0.0</td>\n",
       "      <td>0.000296</td>\n",
       "      <td>-0.000001</td>\n",
       "      <td>0.004118</td>\n",
       "    </tr>\n",
       "    <tr>\n",
       "      <th>100-2x2x4-H</th>\n",
       "      <td>-8.968</td>\n",
       "      <td>0.158</td>\n",
       "      <td>0.065</td>\n",
       "      <td>0.065</td>\n",
       "      <td>0.041</td>\n",
       "      <td>0.043</td>\n",
       "      <td>0.002135</td>\n",
       "      <td>0.001684</td>\n",
       "      <td>0.0</td>\n",
       "      <td>0.000149</td>\n",
       "      <td>-0.000001</td>\n",
       "      <td>0.003966</td>\n",
       "    </tr>\n",
       "    <tr>\n",
       "      <th>100-2x2x4-OH-complete</th>\n",
       "      <td>NaN</td>\n",
       "      <td>NaN</td>\n",
       "      <td>NaN</td>\n",
       "      <td>NaN</td>\n",
       "      <td>NaN</td>\n",
       "      <td>NaN</td>\n",
       "      <td>NaN</td>\n",
       "      <td>NaN</td>\n",
       "      <td>NaN</td>\n",
       "      <td>NaN</td>\n",
       "      <td>NaN</td>\n",
       "      <td>NaN</td>\n",
       "    </tr>\n",
       "    <tr>\n",
       "      <th>100-2x2x4-OH-incomplete</th>\n",
       "      <td>NaN</td>\n",
       "      <td>NaN</td>\n",
       "      <td>NaN</td>\n",
       "      <td>NaN</td>\n",
       "      <td>NaN</td>\n",
       "      <td>NaN</td>\n",
       "      <td>NaN</td>\n",
       "      <td>NaN</td>\n",
       "      <td>NaN</td>\n",
       "      <td>NaN</td>\n",
       "      <td>NaN</td>\n",
       "      <td>NaN</td>\n",
       "    </tr>\n",
       "    <tr>\n",
       "      <th>100-2x2x4-OH-missmatch</th>\n",
       "      <td>NaN</td>\n",
       "      <td>NaN</td>\n",
       "      <td>NaN</td>\n",
       "      <td>NaN</td>\n",
       "      <td>NaN</td>\n",
       "      <td>NaN</td>\n",
       "      <td>NaN</td>\n",
       "      <td>NaN</td>\n",
       "      <td>NaN</td>\n",
       "      <td>NaN</td>\n",
       "      <td>NaN</td>\n",
       "      <td>NaN</td>\n",
       "    </tr>\n",
       "    <tr>\n",
       "      <th>100-2x2x4-OH-zeroAtoms</th>\n",
       "      <td>NaN</td>\n",
       "      <td>NaN</td>\n",
       "      <td>NaN</td>\n",
       "      <td>NaN</td>\n",
       "      <td>NaN</td>\n",
       "      <td>NaN</td>\n",
       "      <td>NaN</td>\n",
       "      <td>NaN</td>\n",
       "      <td>NaN</td>\n",
       "      <td>NaN</td>\n",
       "      <td>NaN</td>\n",
       "      <td>NaN</td>\n",
       "    </tr>\n",
       "  </tbody>\n",
       "</table>\n",
       "</div>"
      ],
      "text/plain": [
       "                          E_pot  E_ZPE  Cv_trans  Cv_rot  Cv_vib  C_vtoC_p  \\\n",
       "100-2x2x4                   NaN    NaN       NaN     NaN     NaN       NaN   \n",
       "100-2x2x4-CO-1          -18.174  0.176     0.065   0.065   0.171     0.043   \n",
       "100-2x2x4-O             -10.682  0.058     0.065   0.065   0.080     0.043   \n",
       "100-2x2x4-H              -8.968  0.158     0.065   0.065   0.041     0.043   \n",
       "100-2x2x4-OH-complete       NaN    NaN       NaN     NaN     NaN       NaN   \n",
       "100-2x2x4-OH-incomplete     NaN    NaN       NaN     NaN     NaN       NaN   \n",
       "100-2x2x4-OH-missmatch      NaN    NaN       NaN     NaN     NaN       NaN   \n",
       "100-2x2x4-OH-zeroAtoms      NaN    NaN       NaN     NaN     NaN       NaN   \n",
       "\n",
       "                          S_trans     S_rot  S_elec     S_vib      Sbar  \\\n",
       "100-2x2x4                     NaN       NaN     NaN       NaN       NaN   \n",
       "100-2x2x4-CO-1           0.002138  0.001695     0.0  0.001045 -0.000001   \n",
       "100-2x2x4-O              0.002137  0.001687     0.0  0.000296 -0.000001   \n",
       "100-2x2x4-H              0.002135  0.001684     0.0  0.000149 -0.000001   \n",
       "100-2x2x4-OH-complete         NaN       NaN     NaN       NaN       NaN   \n",
       "100-2x2x4-OH-incomplete       NaN       NaN     NaN       NaN       NaN   \n",
       "100-2x2x4-OH-missmatch        NaN       NaN     NaN       NaN       NaN   \n",
       "100-2x2x4-OH-zeroAtoms        NaN       NaN     NaN       NaN       NaN   \n",
       "\n",
       "                                S  \n",
       "100-2x2x4                     NaN  \n",
       "100-2x2x4-CO-1           0.004877  \n",
       "100-2x2x4-O              0.004118  \n",
       "100-2x2x4-H              0.003966  \n",
       "100-2x2x4-OH-complete         NaN  \n",
       "100-2x2x4-OH-incomplete       NaN  \n",
       "100-2x2x4-OH-missmatch        NaN  \n",
       "100-2x2x4-OH-zeroAtoms        NaN  "
      ]
     },
     "execution_count": 43,
     "metadata": {},
     "output_type": "execute_result"
    }
   ],
   "source": [
    "Cu_slabs = get_entropies(Cu_slabs, out_file='out.txt')\n",
    "Cu_slabs[[\n",
    "            \"E_pot\",\n",
    "            \"E_ZPE\",\n",
    "            \"Cv_trans\",\n",
    "            \"Cv_rot\",\n",
    "            \"Cv_vib\",\n",
    "            \"C_vtoC_p\",\n",
    "            \"S_trans\",\n",
    "            \"S_rot\",\n",
    "            \"S_elec\",\n",
    "            \"S_vib\",\n",
    "            \"Sbar\",\n",
    "            \"S\",\n",
    "        ]]"
   ]
  },
  {
   "cell_type": "code",
   "execution_count": 44,
   "metadata": {},
   "outputs": [
    {
     "data": {
      "text/html": [
       "<div>\n",
       "<style scoped>\n",
       "    .dataframe tbody tr th:only-of-type {\n",
       "        vertical-align: middle;\n",
       "    }\n",
       "\n",
       "    .dataframe tbody tr th {\n",
       "        vertical-align: top;\n",
       "    }\n",
       "\n",
       "    .dataframe thead th {\n",
       "        text-align: right;\n",
       "    }\n",
       "</style>\n",
       "<table border=\"1\" class=\"dataframe\">\n",
       "  <thead>\n",
       "    <tr style=\"text-align: right;\">\n",
       "      <th></th>\n",
       "      <th>E_pot</th>\n",
       "      <th>E_ZPE</th>\n",
       "      <th>Cv_trans</th>\n",
       "      <th>Cv_rot</th>\n",
       "      <th>Cv_vib</th>\n",
       "      <th>C_vtoC_p</th>\n",
       "      <th>S_trans</th>\n",
       "      <th>S_rot</th>\n",
       "      <th>S_elec</th>\n",
       "      <th>S_vib</th>\n",
       "      <th>Sbar</th>\n",
       "      <th>S</th>\n",
       "    </tr>\n",
       "  </thead>\n",
       "  <tbody>\n",
       "    <tr>\n",
       "      <th>H2O</th>\n",
       "      <td>-12.810</td>\n",
       "      <td>0.575</td>\n",
       "      <td>0.065</td>\n",
       "      <td>0.065</td>\n",
       "      <td>0.002</td>\n",
       "      <td>0.043</td>\n",
       "      <td>0.001613</td>\n",
       "      <td>0.000582</td>\n",
       "      <td>0.0</td>\n",
       "      <td>0.000005</td>\n",
       "      <td>-0.000001</td>\n",
       "      <td>0.002199</td>\n",
       "    </tr>\n",
       "    <tr>\n",
       "      <th>H2</th>\n",
       "      <td>-7.164</td>\n",
       "      <td>0.276</td>\n",
       "      <td>0.065</td>\n",
       "      <td>0.043</td>\n",
       "      <td>0.000</td>\n",
       "      <td>0.043</td>\n",
       "      <td>0.001330</td>\n",
       "      <td>0.000175</td>\n",
       "      <td>0.0</td>\n",
       "      <td>0.000000</td>\n",
       "      <td>-0.000001</td>\n",
       "      <td>0.001504</td>\n",
       "    </tr>\n",
       "    <tr>\n",
       "      <th>CO</th>\n",
       "      <td>-12.065</td>\n",
       "      <td>0.132</td>\n",
       "      <td>0.065</td>\n",
       "      <td>0.043</td>\n",
       "      <td>0.001</td>\n",
       "      <td>0.043</td>\n",
       "      <td>0.001670</td>\n",
       "      <td>0.000536</td>\n",
       "      <td>0.0</td>\n",
       "      <td>0.000001</td>\n",
       "      <td>-0.000001</td>\n",
       "      <td>0.002206</td>\n",
       "    </tr>\n",
       "  </tbody>\n",
       "</table>\n",
       "</div>"
      ],
      "text/plain": [
       "      E_pot  E_ZPE  Cv_trans  Cv_rot  Cv_vib  C_vtoC_p   S_trans     S_rot  \\\n",
       "H2O -12.810  0.575     0.065   0.065   0.002     0.043  0.001613  0.000582   \n",
       "H2   -7.164  0.276     0.065   0.043   0.000     0.043  0.001330  0.000175   \n",
       "CO  -12.065  0.132     0.065   0.043   0.001     0.043  0.001670  0.000536   \n",
       "\n",
       "     S_elec     S_vib      Sbar         S  \n",
       "H2O     0.0  0.000005 -0.000001  0.002199  \n",
       "H2      0.0  0.000000 -0.000001  0.001504  \n",
       "CO      0.0  0.000001 -0.000001  0.002206  "
      ]
     },
     "execution_count": 44,
     "metadata": {},
     "output_type": "execute_result"
    }
   ],
   "source": [
    "Gas = get_entropies(Gas, 'out.txt')\n",
    "# 12 new columns appeared:\n",
    "Gas[[ \"E_pot\",\n",
    "            \"E_ZPE\",\n",
    "            \"Cv_trans\",\n",
    "            \"Cv_rot\",\n",
    "            \"Cv_vib\",\n",
    "            \"C_vtoC_p\",\n",
    "            \"S_trans\",\n",
    "            \"S_rot\",\n",
    "            \"S_elec\",\n",
    "            \"S_vib\",\n",
    "            \"Sbar\",\n",
    "            \"S\",\n",
    "        ]]\n"
   ]
  },
  {
   "cell_type": "code",
   "execution_count": 45,
   "metadata": {},
   "outputs": [],
   "source": [
    "Gas['G(T)'] = Gas.apply(gas_free_G, axis=1)\n"
   ]
  },
  {
   "cell_type": "code",
   "execution_count": 46,
   "metadata": {},
   "outputs": [
    {
     "name": "stdout",
     "output_type": "stream",
     "text": [
      "data/Cu/slabs/100/clean/2x2x4 \n",
      " no file\n",
      "data/Cu/slabs/100/clean/2x2x4/OH/complete \n",
      " {}\n",
      "data/Cu/slabs/100/clean/2x2x4/OH/incomplete \n",
      " {}\n",
      "data/Cu/slabs/100/clean/2x2x4/OH/missmatch \n",
      " no file\n",
      "data/Cu/slabs/100/clean/2x2x4/OH/zeroAtoms \n",
      " {}\n"
     ]
    }
   ],
   "source": [
    "Cu_slabs = get_entropies(Cu_slabs)"
   ]
  },
  {
   "cell_type": "code",
   "execution_count": 47,
   "metadata": {},
   "outputs": [],
   "source": [
    "Gas = get_entropies(Gas)"
   ]
  },
  {
   "cell_type": "code",
   "execution_count": 53,
   "metadata": {},
   "outputs": [],
   "source": [
    "from sympy import symbols\n",
    "kb = 8.617333262145e-5\n",
    "T = symbols(\"Temp\")\n",
    "x = symbols(\"x\")"
   ]
  },
  {
   "cell_type": "code",
   "execution_count": 54,
   "metadata": {},
   "outputs": [],
   "source": [
    "def gas_free_G(row):\n",
    "    E = row[\"E\"]\n",
    "    ZPE = row[\"E_ZPE\"]\n",
    "    Cv_trans = row[\"Cv_trans\"]\n",
    "    Cv_rot = row[\"Cv_rot\"]\n",
    "    Cv_vib = row[\"Cv_vib\"]\n",
    "    S_trans = row[\"S_trans\"]\n",
    "    S_rot = row[\"S_rot\"]\n",
    "    S_vib = row[\"S_vib\"]\n",
    "    G = (\n",
    "        float(E)\n",
    "        + float(ZPE)\n",
    "        + Cv_trans\n",
    "        + Cv_rot\n",
    "        + Cv_vib\n",
    "        - T * (S_trans + S_rot + S_vib)\n",
    "    )\n",
    "\n",
    "    return G\n",
    "\n",
    "Gas[\"free_G\"] = Gas.apply(gas_free_G, axis=1)"
   ]
  },
  {
   "cell_type": "code",
   "execution_count": 56,
   "metadata": {},
   "outputs": [],
   "source": [
    "\n",
    "def ads_free_G(row):\n",
    "    E = row[\"E\"]\n",
    "    ZPE = row[\"E_ZPE\"]\n",
    "    Cv_vib = row[\"Cv_vib\"]\n",
    "    S_vib = row[\"S_vib\"]\n",
    "    G = float(E) + float(ZPE) + Cv_vib - T * (S_vib)\n",
    "\n",
    "    return G\n",
    "\n",
    "\n",
    "Cu_slabs[\"free_G\"] = Cu_slabs.apply(ads_free_G, axis=1)\n"
   ]
  },
  {
   "cell_type": "code",
   "execution_count": 57,
   "metadata": {},
   "outputs": [],
   "source": [
    "Gasreferences_G = {\n",
    "    \"OH\": Gas.loc[\"H2O\"][\"free_G\"] - Gas.loc[\"H2\"][\"free_G\"] / 2,\n",
    "    \"CO\": Gas.loc[\"CO\"][\"free_G\"],\n",
    "    \"H\": Gas.loc[\"H2\"][\"free_G\"] / 2,\n",
    "    \"O\": Gas.loc[\"H2O\"][\"free_G\"] - Gas.loc[\"H2\"][\"free_G\"],\n",
    "}"
   ]
  },
  {
   "cell_type": "code",
   "execution_count": 58,
   "metadata": {},
   "outputs": [
    {
     "name": "stderr",
     "output_type": "stream",
     "text": [
      "ERROR:root:nan KeyError not in Gasreferences\n",
      "ERROR:root:nan KeyError not in surface references\n"
     ]
    },
    {
     "data": {
      "text/html": [
       "<div>\n",
       "<style scoped>\n",
       "    .dataframe tbody tr th:only-of-type {\n",
       "        vertical-align: middle;\n",
       "    }\n",
       "\n",
       "    .dataframe tbody tr th {\n",
       "        vertical-align: top;\n",
       "    }\n",
       "\n",
       "    .dataframe thead th {\n",
       "        text-align: right;\n",
       "    }\n",
       "</style>\n",
       "<table border=\"1\" class=\"dataframe\">\n",
       "  <thead>\n",
       "    <tr style=\"text-align: right;\">\n",
       "      <th></th>\n",
       "      <th>free_G</th>\n",
       "      <th>adsorbate_G</th>\n",
       "      <th>surface_ref_G</th>\n",
       "      <th>ads_G</th>\n",
       "    </tr>\n",
       "  </thead>\n",
       "  <tbody>\n",
       "    <tr>\n",
       "      <th>100-2x2x4</th>\n",
       "      <td>nan</td>\n",
       "      <td>NaN</td>\n",
       "      <td>NaN</td>\n",
       "      <td>nan</td>\n",
       "    </tr>\n",
       "    <tr>\n",
       "      <th>100-2x2x4-CO-1</th>\n",
       "      <td>-0.0010445*Temp - 17.82668953</td>\n",
       "      <td>-0.0022076*Temp - 11.8238225</td>\n",
       "      <td>-5.510428</td>\n",
       "      <td>0.0011631*Temp - 0.492438990000001</td>\n",
       "    </tr>\n",
       "    <tr>\n",
       "      <th>100-2x2x4-O</th>\n",
       "      <td>-0.0002956*Temp - 10.5441089</td>\n",
       "      <td>-0.0006942*Temp - 5.323424</td>\n",
       "      <td>-5.510428</td>\n",
       "      <td>0.0003986*Temp + 0.289743140000002</td>\n",
       "    </tr>\n",
       "    <tr>\n",
       "      <th>100-2x2x4-H</th>\n",
       "      <td>-0.0001487*Temp - 8.76930931</td>\n",
       "      <td>-0.0007528*Temp - 3.389934775</td>\n",
       "      <td>-5.510428</td>\n",
       "      <td>0.0006041*Temp + 0.131053505</td>\n",
       "    </tr>\n",
       "    <tr>\n",
       "      <th>100-2x2x4-OH-complete</th>\n",
       "      <td>nan</td>\n",
       "      <td>-0.001447*Temp - 8.713358775</td>\n",
       "      <td>-5.510428</td>\n",
       "      <td>nan</td>\n",
       "    </tr>\n",
       "    <tr>\n",
       "      <th>100-2x2x4-OH-incomplete</th>\n",
       "      <td>nan</td>\n",
       "      <td>-0.001447*Temp - 8.713358775</td>\n",
       "      <td>-5.510428</td>\n",
       "      <td>nan</td>\n",
       "    </tr>\n",
       "    <tr>\n",
       "      <th>100-2x2x4-OH-missmatch</th>\n",
       "      <td>nan</td>\n",
       "      <td>-0.001447*Temp - 8.713358775</td>\n",
       "      <td>-5.510428</td>\n",
       "      <td>nan</td>\n",
       "    </tr>\n",
       "    <tr>\n",
       "      <th>100-2x2x4-OH-zeroAtoms</th>\n",
       "      <td>nan</td>\n",
       "      <td>-0.001447*Temp - 8.713358775</td>\n",
       "      <td>-5.510428</td>\n",
       "      <td>nan</td>\n",
       "    </tr>\n",
       "  </tbody>\n",
       "</table>\n",
       "</div>"
      ],
      "text/plain": [
       "                                                free_G  \\\n",
       "100-2x2x4                                          nan   \n",
       "100-2x2x4-CO-1           -0.0010445*Temp - 17.82668953   \n",
       "100-2x2x4-O               -0.0002956*Temp - 10.5441089   \n",
       "100-2x2x4-H               -0.0001487*Temp - 8.76930931   \n",
       "100-2x2x4-OH-complete                              nan   \n",
       "100-2x2x4-OH-incomplete                            nan   \n",
       "100-2x2x4-OH-missmatch                             nan   \n",
       "100-2x2x4-OH-zeroAtoms                             nan   \n",
       "\n",
       "                                           adsorbate_G  surface_ref_G  \\\n",
       "100-2x2x4                                          NaN            NaN   \n",
       "100-2x2x4-CO-1            -0.0022076*Temp - 11.8238225      -5.510428   \n",
       "100-2x2x4-O                 -0.0006942*Temp - 5.323424      -5.510428   \n",
       "100-2x2x4-H              -0.0007528*Temp - 3.389934775      -5.510428   \n",
       "100-2x2x4-OH-complete     -0.001447*Temp - 8.713358775      -5.510428   \n",
       "100-2x2x4-OH-incomplete   -0.001447*Temp - 8.713358775      -5.510428   \n",
       "100-2x2x4-OH-missmatch    -0.001447*Temp - 8.713358775      -5.510428   \n",
       "100-2x2x4-OH-zeroAtoms    -0.001447*Temp - 8.713358775      -5.510428   \n",
       "\n",
       "                                                      ads_G  \n",
       "100-2x2x4                                               nan  \n",
       "100-2x2x4-CO-1           0.0011631*Temp - 0.492438990000001  \n",
       "100-2x2x4-O              0.0003986*Temp + 0.289743140000002  \n",
       "100-2x2x4-H                    0.0006041*Temp + 0.131053505  \n",
       "100-2x2x4-OH-complete                                   nan  \n",
       "100-2x2x4-OH-incomplete                                 nan  \n",
       "100-2x2x4-OH-missmatch                                  nan  \n",
       "100-2x2x4-OH-zeroAtoms                                  nan  "
      ]
     },
     "execution_count": 58,
     "metadata": {},
     "output_type": "execute_result"
    }
   ],
   "source": [
    "#Now we do the same with free_G as we did it for the E\n",
    "\n",
    "def get_ads_and_ref_energies(row, Gasreferences, surface_reference, adsorbate_col='adsorbate', surface_ref_col='surface_ref'):\n",
    "    ''' return adsorbate and reference surface energies'''\n",
    "    ads = row[adsorbate_col]\n",
    "    ref = row[surface_ref_col]\n",
    "#    adsE = Gasreferences[ads].E \n",
    "\n",
    "    try:\n",
    "        adsE = Gasreferences[ads]\n",
    "    except KeyError:\n",
    "        logging.error(str(ads) + ' KeyError not in Gasreferences')\n",
    "        adsE = NaN\n",
    "    except AttributeError:\n",
    "        adsE = NaN\n",
    "    except Exception:\n",
    "        logging.error(str(ads) + ' Exception not in Gasreferences')\n",
    "        adsE = NaN\n",
    "    try:\n",
    "        surfE = surface_reference.loc[ref].E\n",
    "    except KeyError:\n",
    "        logging.error(str(ref) + ' KeyError not in surface references')\n",
    "        surfE = NaN\n",
    "    except AttributeError:\n",
    "        surfE = NaN\n",
    "    except Exception:\n",
    "        surfE = NaN\n",
    "        logging.error(ref + '= not in surface references')\n",
    "    return adsE, surfE\n",
    "\n",
    "\n",
    "def add_adsorbate_and_ref_energies(Frame, Gasreferences, surface_references):\n",
    "    Frame['adsorbate_G'], Frame['surface_ref_G'] = zip(*Frame.apply(get_ads_and_ref_energies, args=[Gasreferences, surface_references], axis=1))\n",
    "    return Frame\n",
    "\n",
    "\n",
    "Cu_slabs =  add_adsorbate_and_ref_energies(Cu_slabs, Gasreferences_G, Cu_slabs)# The Frame with the Adsorbates and the Frame with the surface references are the same in this case.\n",
    "Cu_slabs['ads_G'] = Cu_slabs.free_G  - Cu_slabs['adsorbate_G'] - Cu_slabs['surface_ref_G']\n",
    "Cu_slabs[['free_G', 'adsorbate_G', 'surface_ref_G', 'ads_G']]"
   ]
  },
  {
   "cell_type": "code",
   "execution_count": 59,
   "metadata": {},
   "outputs": [
    {
     "data": {
      "text/plain": [
       "100-2x2x4                       NaN\n",
       "100-2x2x4-CO-1             0.089111\n",
       "100-2x2x4-O                0.489043\n",
       "100-2x2x4-H                0.433104\n",
       "100-2x2x4-OH-complete           NaN\n",
       "100-2x2x4-OH-incomplete         NaN\n",
       "100-2x2x4-OH-missmatch          NaN\n",
       "100-2x2x4-OH-zeroAtoms          NaN\n",
       "Name: G(T=500K), dtype: float64"
      ]
     },
     "execution_count": 59,
     "metadata": {},
     "output_type": "execute_result"
    }
   ],
   "source": [
    "#The ads_G is still a function of the Temperature. To evaluate you need to get the sympy object in the column and use its function .subs() to get a singel number.  \n",
    "Cu_slabs['G(T=500K)'] = Cu_slabs['ads_G'].apply(lambda x: float(x.subs(\"Temp\", 500)))\n",
    "Cu_slabs['G(T=500K)']"
   ]
  },
  {
   "cell_type": "code",
   "execution_count": 60,
   "metadata": {},
   "outputs": [
    {
     "data": {
      "text/plain": [
       "100-2x2x4                  NaN\n",
       "100-2x2x4-CO-1             1.0\n",
       "100-2x2x4-O                1.0\n",
       "100-2x2x4-H                1.0\n",
       "100-2x2x4-OH-complete      1.0\n",
       "100-2x2x4-OH-incomplete    1.0\n",
       "100-2x2x4-OH-missmatch     1.0\n",
       "100-2x2x4-OH-zeroAtoms     4.0\n",
       "Name: ranked, dtype: float64"
      ]
     },
     "execution_count": 60,
     "metadata": {},
     "output_type": "execute_result"
    }
   ],
   "source": [
    "Cu_slabs['ranked'] = Cu_slabs.groupby([\"surface_ref\", \"adsorbate\"])[\"ads_E\"].rank(method=\"min\", ascending=True)\n",
    "Cu_slabs['ranked']\n"
   ]
  },
  {
   "cell_type": "code",
   "execution_count": 61,
   "metadata": {},
   "outputs": [
    {
     "name": "stdout",
     "output_type": "stream",
     "text": [
      "100-2x2x4 An error occured: ValueError\n",
      "100-2x2x4-OH-zeroAtoms An error occured: ValueError\n"
     ]
    }
   ],
   "source": [
    "Cu_slabs['Distance'] = Cu_slabs.apply(distance_from_surface, args=['struc'], axis=1)\n",
    "#By default the elements 'C', 'O' and 'H' are treated as part of the adsorbate. \n",
    "#put args=['struc', ['C', 'H]] if. e.g. want to trate O as part of the surface.\n",
    "\n",
    "# We have two errors, The clean surface that has only Cu atoms and the zeroAtoms dummy:"
   ]
  },
  {
   "cell_type": "code",
   "execution_count": 68,
   "metadata": {},
   "outputs": [],
   "source": [
    "## We can save the Frame object to a pickle file and read it later or in another jupyter notebook.\n",
    "Cu_slabs.to_pickle('Cu_slabs_G')\n",
    "## We can also write it to an excel file, selecting\n",
    "Cu_slabs[['Name', 'Vacuum', 'E_pot', 'ads_E', 'E_ZPE',  'Cv_vib', 'C_vtoC_p', 'S_vib', 'free_G', 'ads_G', 'Distance']].to_excel('/Users/dk2994/Desktop/Uni/Journal/Duyer/CO_table.xlsx', float_format=\"%.5f\" )"
   ]
  },
  {
   "cell_type": "code",
   "execution_count": 69,
   "metadata": {},
   "outputs": [
    {
     "data": {
      "text/html": [
       "<div>\n",
       "<style scoped>\n",
       "    .dataframe tbody tr th:only-of-type {\n",
       "        vertical-align: middle;\n",
       "    }\n",
       "\n",
       "    .dataframe tbody tr th {\n",
       "        vertical-align: top;\n",
       "    }\n",
       "\n",
       "    .dataframe thead th {\n",
       "        text-align: right;\n",
       "    }\n",
       "</style>\n",
       "<table border=\"1\" class=\"dataframe\">\n",
       "  <thead>\n",
       "    <tr style=\"text-align: right;\">\n",
       "      <th></th>\n",
       "      <th>ranked</th>\n",
       "      <th>1.0</th>\n",
       "      <th>4.0</th>\n",
       "    </tr>\n",
       "    <tr>\n",
       "      <th>surface_ref</th>\n",
       "      <th>adsorbate</th>\n",
       "      <th></th>\n",
       "      <th></th>\n",
       "    </tr>\n",
       "  </thead>\n",
       "  <tbody>\n",
       "    <tr>\n",
       "      <th rowspan=\"4\" valign=\"top\">100-2x2x4</th>\n",
       "      <th>CO</th>\n",
       "      <td>-0.598439</td>\n",
       "      <td>NaN</td>\n",
       "    </tr>\n",
       "    <tr>\n",
       "      <th>H</th>\n",
       "      <td>0.124054</td>\n",
       "      <td>NaN</td>\n",
       "    </tr>\n",
       "    <tr>\n",
       "      <th>O</th>\n",
       "      <td>0.474743</td>\n",
       "      <td>NaN</td>\n",
       "    </tr>\n",
       "    <tr>\n",
       "      <th>OH</th>\n",
       "      <td>-0.014120</td>\n",
       "      <td>14.738787</td>\n",
       "    </tr>\n",
       "  </tbody>\n",
       "</table>\n",
       "</div>"
      ],
      "text/plain": [
       "ranked                      1.0        4.0\n",
       "surface_ref adsorbate                     \n",
       "100-2x2x4   CO        -0.598439        NaN\n",
       "            H          0.124054        NaN\n",
       "            O          0.474743        NaN\n",
       "            OH        -0.014120  14.738787"
      ]
     },
     "execution_count": 69,
     "metadata": {},
     "output_type": "execute_result"
    }
   ],
   "source": [
    "Cu_slabs.pivot_table(index=['surface_ref', 'adsorbate'], columns='ranked', values='ads_E')"
   ]
  },
  {
   "cell_type": "code",
   "execution_count": 70,
   "metadata": {},
   "outputs": [],
   "source": [
    "Adsorbates = Cu_slabs[~Cu_slabs.S.isna()] #lets drop everything that does not have an entropy value"
   ]
  },
  {
   "cell_type": "markdown",
   "metadata": {},
   "source": [
    "#### With plotly we can plot an interactive plot that shows us the the x and y values and some additional information when hovering over it."
   ]
  },
  {
   "cell_type": "code",
   "execution_count": 74,
   "metadata": {},
   "outputs": [
    {
     "data": {
      "application/vnd.plotly.v1+json": {
       "config": {
        "plotlyServerURL": "https://plot.ly"
       },
       "data": [
        {
         "customdata": [
          [
           2,
           [
            2020.5,
            293.3,
            243.7,
            241.7
           ],
           "fuchsia"
          ],
          [
           2,
           [
            319.1,
            317.8,
            297.1
           ],
           "fuchsia"
          ],
          [
           2,
           [
            1178.7,
            1134.1,
            236.5
           ],
           "fuchsia"
          ]
         ],
         "hovertemplate": "<b>%{hovertext}</b><br><br>G(T=500K)=%{x}<br>E=%{y}<br>adsorbate=%{text}<br>Frequency=%{customdata[1]}<extra></extra>",
         "hovertext": [
          "100-2x2x4-CO-1",
          "100-2x2x4-O",
          "100-2x2x4-H"
         ],
         "legendgroup": "fuchsia",
         "marker": {
          "color": "#636efa",
          "opacity": 1,
          "size": [
           2,
           2,
           2
          ],
          "sizemode": "area",
          "sizeref": 0.005,
          "symbol": "circle"
         },
         "mode": "markers+text",
         "name": "fuchsia",
         "orientation": "v",
         "showlegend": true,
         "text": [
          "CO",
          "O",
          "H"
         ],
         "type": "scatter",
         "x": [
          0.08911100999999899,
          0.4890431400000024,
          0.43310350499999967
         ],
         "xaxis": "x",
         "y": [
          -18.17368953,
          -10.6821089,
          -8.96830931
         ],
         "yaxis": "y"
        }
       ],
       "layout": {
        "legend": {
         "itemsizing": "constant",
         "title": {
          "text": "color"
         },
         "tracegroupgap": 0
        },
        "margin": {
         "t": 60
        },
        "template": {
         "data": {
          "bar": [
           {
            "error_x": {
             "color": "#2a3f5f"
            },
            "error_y": {
             "color": "#2a3f5f"
            },
            "marker": {
             "line": {
              "color": "#E5ECF6",
              "width": 0.5
             },
             "pattern": {
              "fillmode": "overlay",
              "size": 10,
              "solidity": 0.2
             }
            },
            "type": "bar"
           }
          ],
          "barpolar": [
           {
            "marker": {
             "line": {
              "color": "#E5ECF6",
              "width": 0.5
             },
             "pattern": {
              "fillmode": "overlay",
              "size": 10,
              "solidity": 0.2
             }
            },
            "type": "barpolar"
           }
          ],
          "carpet": [
           {
            "aaxis": {
             "endlinecolor": "#2a3f5f",
             "gridcolor": "white",
             "linecolor": "white",
             "minorgridcolor": "white",
             "startlinecolor": "#2a3f5f"
            },
            "baxis": {
             "endlinecolor": "#2a3f5f",
             "gridcolor": "white",
             "linecolor": "white",
             "minorgridcolor": "white",
             "startlinecolor": "#2a3f5f"
            },
            "type": "carpet"
           }
          ],
          "choropleth": [
           {
            "colorbar": {
             "outlinewidth": 0,
             "ticks": ""
            },
            "type": "choropleth"
           }
          ],
          "contour": [
           {
            "colorbar": {
             "outlinewidth": 0,
             "ticks": ""
            },
            "colorscale": [
             [
              0,
              "#0d0887"
             ],
             [
              0.1111111111111111,
              "#46039f"
             ],
             [
              0.2222222222222222,
              "#7201a8"
             ],
             [
              0.3333333333333333,
              "#9c179e"
             ],
             [
              0.4444444444444444,
              "#bd3786"
             ],
             [
              0.5555555555555556,
              "#d8576b"
             ],
             [
              0.6666666666666666,
              "#ed7953"
             ],
             [
              0.7777777777777778,
              "#fb9f3a"
             ],
             [
              0.8888888888888888,
              "#fdca26"
             ],
             [
              1,
              "#f0f921"
             ]
            ],
            "type": "contour"
           }
          ],
          "contourcarpet": [
           {
            "colorbar": {
             "outlinewidth": 0,
             "ticks": ""
            },
            "type": "contourcarpet"
           }
          ],
          "heatmap": [
           {
            "colorbar": {
             "outlinewidth": 0,
             "ticks": ""
            },
            "colorscale": [
             [
              0,
              "#0d0887"
             ],
             [
              0.1111111111111111,
              "#46039f"
             ],
             [
              0.2222222222222222,
              "#7201a8"
             ],
             [
              0.3333333333333333,
              "#9c179e"
             ],
             [
              0.4444444444444444,
              "#bd3786"
             ],
             [
              0.5555555555555556,
              "#d8576b"
             ],
             [
              0.6666666666666666,
              "#ed7953"
             ],
             [
              0.7777777777777778,
              "#fb9f3a"
             ],
             [
              0.8888888888888888,
              "#fdca26"
             ],
             [
              1,
              "#f0f921"
             ]
            ],
            "type": "heatmap"
           }
          ],
          "heatmapgl": [
           {
            "colorbar": {
             "outlinewidth": 0,
             "ticks": ""
            },
            "colorscale": [
             [
              0,
              "#0d0887"
             ],
             [
              0.1111111111111111,
              "#46039f"
             ],
             [
              0.2222222222222222,
              "#7201a8"
             ],
             [
              0.3333333333333333,
              "#9c179e"
             ],
             [
              0.4444444444444444,
              "#bd3786"
             ],
             [
              0.5555555555555556,
              "#d8576b"
             ],
             [
              0.6666666666666666,
              "#ed7953"
             ],
             [
              0.7777777777777778,
              "#fb9f3a"
             ],
             [
              0.8888888888888888,
              "#fdca26"
             ],
             [
              1,
              "#f0f921"
             ]
            ],
            "type": "heatmapgl"
           }
          ],
          "histogram": [
           {
            "marker": {
             "pattern": {
              "fillmode": "overlay",
              "size": 10,
              "solidity": 0.2
             }
            },
            "type": "histogram"
           }
          ],
          "histogram2d": [
           {
            "colorbar": {
             "outlinewidth": 0,
             "ticks": ""
            },
            "colorscale": [
             [
              0,
              "#0d0887"
             ],
             [
              0.1111111111111111,
              "#46039f"
             ],
             [
              0.2222222222222222,
              "#7201a8"
             ],
             [
              0.3333333333333333,
              "#9c179e"
             ],
             [
              0.4444444444444444,
              "#bd3786"
             ],
             [
              0.5555555555555556,
              "#d8576b"
             ],
             [
              0.6666666666666666,
              "#ed7953"
             ],
             [
              0.7777777777777778,
              "#fb9f3a"
             ],
             [
              0.8888888888888888,
              "#fdca26"
             ],
             [
              1,
              "#f0f921"
             ]
            ],
            "type": "histogram2d"
           }
          ],
          "histogram2dcontour": [
           {
            "colorbar": {
             "outlinewidth": 0,
             "ticks": ""
            },
            "colorscale": [
             [
              0,
              "#0d0887"
             ],
             [
              0.1111111111111111,
              "#46039f"
             ],
             [
              0.2222222222222222,
              "#7201a8"
             ],
             [
              0.3333333333333333,
              "#9c179e"
             ],
             [
              0.4444444444444444,
              "#bd3786"
             ],
             [
              0.5555555555555556,
              "#d8576b"
             ],
             [
              0.6666666666666666,
              "#ed7953"
             ],
             [
              0.7777777777777778,
              "#fb9f3a"
             ],
             [
              0.8888888888888888,
              "#fdca26"
             ],
             [
              1,
              "#f0f921"
             ]
            ],
            "type": "histogram2dcontour"
           }
          ],
          "mesh3d": [
           {
            "colorbar": {
             "outlinewidth": 0,
             "ticks": ""
            },
            "type": "mesh3d"
           }
          ],
          "parcoords": [
           {
            "line": {
             "colorbar": {
              "outlinewidth": 0,
              "ticks": ""
             }
            },
            "type": "parcoords"
           }
          ],
          "pie": [
           {
            "automargin": true,
            "type": "pie"
           }
          ],
          "scatter": [
           {
            "fillpattern": {
             "fillmode": "overlay",
             "size": 10,
             "solidity": 0.2
            },
            "type": "scatter"
           }
          ],
          "scatter3d": [
           {
            "line": {
             "colorbar": {
              "outlinewidth": 0,
              "ticks": ""
             }
            },
            "marker": {
             "colorbar": {
              "outlinewidth": 0,
              "ticks": ""
             }
            },
            "type": "scatter3d"
           }
          ],
          "scattercarpet": [
           {
            "marker": {
             "colorbar": {
              "outlinewidth": 0,
              "ticks": ""
             }
            },
            "type": "scattercarpet"
           }
          ],
          "scattergeo": [
           {
            "marker": {
             "colorbar": {
              "outlinewidth": 0,
              "ticks": ""
             }
            },
            "type": "scattergeo"
           }
          ],
          "scattergl": [
           {
            "marker": {
             "colorbar": {
              "outlinewidth": 0,
              "ticks": ""
             }
            },
            "type": "scattergl"
           }
          ],
          "scattermapbox": [
           {
            "marker": {
             "colorbar": {
              "outlinewidth": 0,
              "ticks": ""
             }
            },
            "type": "scattermapbox"
           }
          ],
          "scatterpolar": [
           {
            "marker": {
             "colorbar": {
              "outlinewidth": 0,
              "ticks": ""
             }
            },
            "type": "scatterpolar"
           }
          ],
          "scatterpolargl": [
           {
            "marker": {
             "colorbar": {
              "outlinewidth": 0,
              "ticks": ""
             }
            },
            "type": "scatterpolargl"
           }
          ],
          "scatterternary": [
           {
            "marker": {
             "colorbar": {
              "outlinewidth": 0,
              "ticks": ""
             }
            },
            "type": "scatterternary"
           }
          ],
          "surface": [
           {
            "colorbar": {
             "outlinewidth": 0,
             "ticks": ""
            },
            "colorscale": [
             [
              0,
              "#0d0887"
             ],
             [
              0.1111111111111111,
              "#46039f"
             ],
             [
              0.2222222222222222,
              "#7201a8"
             ],
             [
              0.3333333333333333,
              "#9c179e"
             ],
             [
              0.4444444444444444,
              "#bd3786"
             ],
             [
              0.5555555555555556,
              "#d8576b"
             ],
             [
              0.6666666666666666,
              "#ed7953"
             ],
             [
              0.7777777777777778,
              "#fb9f3a"
             ],
             [
              0.8888888888888888,
              "#fdca26"
             ],
             [
              1,
              "#f0f921"
             ]
            ],
            "type": "surface"
           }
          ],
          "table": [
           {
            "cells": {
             "fill": {
              "color": "#EBF0F8"
             },
             "line": {
              "color": "white"
             }
            },
            "header": {
             "fill": {
              "color": "#C8D4E3"
             },
             "line": {
              "color": "white"
             }
            },
            "type": "table"
           }
          ]
         },
         "layout": {
          "annotationdefaults": {
           "arrowcolor": "#2a3f5f",
           "arrowhead": 0,
           "arrowwidth": 1
          },
          "autotypenumbers": "strict",
          "coloraxis": {
           "colorbar": {
            "outlinewidth": 0,
            "ticks": ""
           }
          },
          "colorscale": {
           "diverging": [
            [
             0,
             "#8e0152"
            ],
            [
             0.1,
             "#c51b7d"
            ],
            [
             0.2,
             "#de77ae"
            ],
            [
             0.3,
             "#f1b6da"
            ],
            [
             0.4,
             "#fde0ef"
            ],
            [
             0.5,
             "#f7f7f7"
            ],
            [
             0.6,
             "#e6f5d0"
            ],
            [
             0.7,
             "#b8e186"
            ],
            [
             0.8,
             "#7fbc41"
            ],
            [
             0.9,
             "#4d9221"
            ],
            [
             1,
             "#276419"
            ]
           ],
           "sequential": [
            [
             0,
             "#0d0887"
            ],
            [
             0.1111111111111111,
             "#46039f"
            ],
            [
             0.2222222222222222,
             "#7201a8"
            ],
            [
             0.3333333333333333,
             "#9c179e"
            ],
            [
             0.4444444444444444,
             "#bd3786"
            ],
            [
             0.5555555555555556,
             "#d8576b"
            ],
            [
             0.6666666666666666,
             "#ed7953"
            ],
            [
             0.7777777777777778,
             "#fb9f3a"
            ],
            [
             0.8888888888888888,
             "#fdca26"
            ],
            [
             1,
             "#f0f921"
            ]
           ],
           "sequentialminus": [
            [
             0,
             "#0d0887"
            ],
            [
             0.1111111111111111,
             "#46039f"
            ],
            [
             0.2222222222222222,
             "#7201a8"
            ],
            [
             0.3333333333333333,
             "#9c179e"
            ],
            [
             0.4444444444444444,
             "#bd3786"
            ],
            [
             0.5555555555555556,
             "#d8576b"
            ],
            [
             0.6666666666666666,
             "#ed7953"
            ],
            [
             0.7777777777777778,
             "#fb9f3a"
            ],
            [
             0.8888888888888888,
             "#fdca26"
            ],
            [
             1,
             "#f0f921"
            ]
           ]
          },
          "colorway": [
           "#636efa",
           "#EF553B",
           "#00cc96",
           "#ab63fa",
           "#FFA15A",
           "#19d3f3",
           "#FF6692",
           "#B6E880",
           "#FF97FF",
           "#FECB52"
          ],
          "font": {
           "color": "#2a3f5f"
          },
          "geo": {
           "bgcolor": "white",
           "lakecolor": "white",
           "landcolor": "#E5ECF6",
           "showlakes": true,
           "showland": true,
           "subunitcolor": "white"
          },
          "hoverlabel": {
           "align": "left"
          },
          "hovermode": "closest",
          "mapbox": {
           "style": "light"
          },
          "paper_bgcolor": "white",
          "plot_bgcolor": "#E5ECF6",
          "polar": {
           "angularaxis": {
            "gridcolor": "white",
            "linecolor": "white",
            "ticks": ""
           },
           "bgcolor": "#E5ECF6",
           "radialaxis": {
            "gridcolor": "white",
            "linecolor": "white",
            "ticks": ""
           }
          },
          "scene": {
           "xaxis": {
            "backgroundcolor": "#E5ECF6",
            "gridcolor": "white",
            "gridwidth": 2,
            "linecolor": "white",
            "showbackground": true,
            "ticks": "",
            "zerolinecolor": "white"
           },
           "yaxis": {
            "backgroundcolor": "#E5ECF6",
            "gridcolor": "white",
            "gridwidth": 2,
            "linecolor": "white",
            "showbackground": true,
            "ticks": "",
            "zerolinecolor": "white"
           },
           "zaxis": {
            "backgroundcolor": "#E5ECF6",
            "gridcolor": "white",
            "gridwidth": 2,
            "linecolor": "white",
            "showbackground": true,
            "ticks": "",
            "zerolinecolor": "white"
           }
          },
          "shapedefaults": {
           "line": {
            "color": "#2a3f5f"
           }
          },
          "ternary": {
           "aaxis": {
            "gridcolor": "white",
            "linecolor": "white",
            "ticks": ""
           },
           "baxis": {
            "gridcolor": "white",
            "linecolor": "white",
            "ticks": ""
           },
           "bgcolor": "#E5ECF6",
           "caxis": {
            "gridcolor": "white",
            "linecolor": "white",
            "ticks": ""
           }
          },
          "title": {
           "x": 0.05
          },
          "xaxis": {
           "automargin": true,
           "gridcolor": "white",
           "linecolor": "white",
           "ticks": "",
           "title": {
            "standoff": 15
           },
           "zerolinecolor": "white",
           "zerolinewidth": 2
          },
          "yaxis": {
           "automargin": true,
           "gridcolor": "white",
           "linecolor": "white",
           "ticks": "",
           "title": {
            "standoff": 15
           },
           "zerolinecolor": "white",
           "zerolinewidth": 2
          }
         }
        },
        "xaxis": {
         "anchor": "y",
         "domain": [
          0,
          1
         ],
         "title": {
          "text": "G(T=500K)"
         }
        },
        "yaxis": {
         "anchor": "x",
         "domain": [
          0,
          1
         ],
         "title": {
          "text": "E"
         }
        }
       }
      }
     },
     "metadata": {},
     "output_type": "display_data"
    }
   ],
   "source": [
    "#\n",
    "Adsorbates['size'] = 2\n",
    "Adsorbates['opacity'] = 1\n",
    "Adsorbates['color'] = 'fuchsia'\n",
    "\n",
    "import plotly.express as px\n",
    "fig = px.scatter(data_frame=Adsorbates, x ='G(T=500K)', y = 'E', size='size', text='adsorbate', opacity=1 , color='color', hover_name='Name', hover_data={'size': False, 'Frequency': True, 'color':False})\n",
    "fig.show()"
   ]
  },
  {
   "cell_type": "markdown",
   "metadata": {},
   "source": [
    "#### With the following snippet you can create interactive plots where the ASE GUI will open with the structure, when you click on the points."
   ]
  },
  {
   "cell_type": "code",
   "execution_count": 76,
   "metadata": {},
   "outputs": [
    {
     "data": {
      "application/vnd.jupyter.widget-view+json": {
       "model_id": "5c2402f716ef4b8cb5f38b49b6ffc8db",
       "version_major": 2,
       "version_minor": 0
      },
      "text/plain": [
       "FigureWidget({\n",
       "    'data': [{'customdata': array(['100-2x2x4-CO-1', '100-2x2x4-O', '100-2x2x4-H'], dtype=object),\n",
       "              'mode': 'markers',\n",
       "              'name': 'Name',\n",
       "              'text': array(['100-2x2x4-CO-1', '100-2x2x4-O', '100-2x2x4-H'], dtype=object),\n",
       "              'type': 'scatter',\n",
       "              'uid': '85457d66-0945-43f2-9559-423f93daf4d8',\n",
       "              'x': array([-0.59843899,  0.47474314,  0.12405351]),\n",
       "              'y': array([0.08911101, 0.48904314, 0.4331035 ])}],\n",
       "    'layout': {'template': '...'}\n",
       "})"
      ]
     },
     "metadata": {},
     "output_type": "display_data"
    }
   ],
   "source": [
    "import plotly.graph_objs as go\n",
    "import pandas as pd\n",
    "import ipywidgets as widgets\n",
    "from IPython.display import display\n",
    "from ase.visualize import view\n",
    "\n",
    "\n",
    "# Create scatter plot\n",
    "fig = go.FigureWidget(\n",
    "    data=[go.Scatter(\n",
    "        x=Adsorbates['ads_E'], \n",
    "        y=Adsorbates['G(T=500K)'], \n",
    "        text=Adsorbates['Name'],\n",
    "        customdata=Adsorbates['Name'],\n",
    "        mode='markers', \n",
    "        name='Name'\n",
    "    )]\n",
    ")\n",
    "\n",
    "# Display the plot\n",
    "\n",
    "display(fig)\n",
    "\n",
    "# Create a function to handle click events\n",
    "def on_click(trace, points, state):\n",
    "    for i in points.point_inds:\n",
    "        view(Adsorbates['struc'][i])\n",
    "        #print(f\"Clicked on: x={Adsorbates['x'][i]}, y={Adsorbates['y'][i]}, info={Adsorbates['info'][i]}, more_info={Adsorbates['more_info'][i]}\")\n",
    "# Attach the click event handler\n",
    "fig.data[0].on_click(on_click)"
   ]
  },
  {
   "cell_type": "markdown",
   "metadata": {},
   "source": [
    "# Multiindex Frame containing single atom information"
   ]
  },
  {
   "cell_type": "code",
   "execution_count": 77,
   "metadata": {},
   "outputs": [
    {
     "data": {
      "text/html": [
       "<div>\n",
       "<style scoped>\n",
       "    .dataframe tbody tr th:only-of-type {\n",
       "        vertical-align: middle;\n",
       "    }\n",
       "\n",
       "    .dataframe tbody tr th {\n",
       "        vertical-align: top;\n",
       "    }\n",
       "\n",
       "    .dataframe thead th {\n",
       "        text-align: right;\n",
       "    }\n",
       "</style>\n",
       "<table border=\"1\" class=\"dataframe\">\n",
       "  <thead>\n",
       "    <tr style=\"text-align: right;\">\n",
       "      <th></th>\n",
       "      <th></th>\n",
       "      <th>Symbols</th>\n",
       "    </tr>\n",
       "  </thead>\n",
       "  <tbody>\n",
       "    <tr>\n",
       "      <th rowspan=\"5\" valign=\"top\">100-2x2x4</th>\n",
       "      <th>0</th>\n",
       "      <td>Cu</td>\n",
       "    </tr>\n",
       "    <tr>\n",
       "      <th>1</th>\n",
       "      <td>Cu</td>\n",
       "    </tr>\n",
       "    <tr>\n",
       "      <th>2</th>\n",
       "      <td>Cu</td>\n",
       "    </tr>\n",
       "    <tr>\n",
       "      <th>3</th>\n",
       "      <td>Cu</td>\n",
       "    </tr>\n",
       "    <tr>\n",
       "      <th>4</th>\n",
       "      <td>Cu</td>\n",
       "    </tr>\n",
       "    <tr>\n",
       "      <th>...</th>\n",
       "      <th>...</th>\n",
       "      <td>...</td>\n",
       "    </tr>\n",
       "    <tr>\n",
       "      <th rowspan=\"5\" valign=\"top\">100-2x2x4-OH-missmatch</th>\n",
       "      <th>11</th>\n",
       "      <td>Cu</td>\n",
       "    </tr>\n",
       "    <tr>\n",
       "      <th>12</th>\n",
       "      <td>Cu</td>\n",
       "    </tr>\n",
       "    <tr>\n",
       "      <th>13</th>\n",
       "      <td>Cu</td>\n",
       "    </tr>\n",
       "    <tr>\n",
       "      <th>14</th>\n",
       "      <td>Cu</td>\n",
       "    </tr>\n",
       "    <tr>\n",
       "      <th>15</th>\n",
       "      <td>Cu</td>\n",
       "    </tr>\n",
       "  </tbody>\n",
       "</table>\n",
       "<p>120 rows × 1 columns</p>\n",
       "</div>"
      ],
      "text/plain": [
       "                          Symbols\n",
       "100-2x2x4              0       Cu\n",
       "                       1       Cu\n",
       "                       2       Cu\n",
       "                       3       Cu\n",
       "                       4       Cu\n",
       "...                           ...\n",
       "100-2x2x4-OH-missmatch 11      Cu\n",
       "                       12      Cu\n",
       "                       13      Cu\n",
       "                       14      Cu\n",
       "                       15      Cu\n",
       "\n",
       "[120 rows x 1 columns]"
      ]
     },
     "execution_count": 77,
     "metadata": {},
     "output_type": "execute_result"
    }
   ],
   "source": [
    "# We can store information for individual atoms, for example chemical element, Bader charge or magnetic moment in a Multiindex DataFrame.\n",
    "# The Name of the calculation and the index of every atom are both indexes that point to an information.  \n",
    "Cu_slabs_atomsindex = Atommultiindex(Cu_slabs, struc_file='CONTCAR')\n",
    "Cu_slabs_atomsindex"
   ]
  },
  {
   "cell_type": "code",
   "execution_count": null,
   "metadata": {},
   "outputs": [],
   "source": []
  },
  {
   "cell_type": "code",
   "execution_count": null,
   "metadata": {},
   "outputs": [],
   "source": []
  }
 ],
 "metadata": {
  "kernelspec": {
   "display_name": "Python 3 (ipykernel)",
   "language": "python",
   "name": "python3"
  },
  "language_info": {
   "codemirror_mode": {
    "name": "ipython",
    "version": 3
   },
   "file_extension": ".py",
   "mimetype": "text/x-python",
   "name": "python",
   "nbconvert_exporter": "python",
   "pygments_lexer": "ipython3",
   "version": "3.11.6"
  }
 },
 "nbformat": 4,
 "nbformat_minor": 4
}
