{
 "cells": [
  {
   "cell_type": "code",
   "execution_count": 1,
   "metadata": {},
   "outputs": [],
   "source": [
    "from DFTDataFrame.Tools import create_frame, InputParameters, getparameter, checkforparameter, read_incar\n",
    "\n",
    "from os import getcwd\n",
    "\n"
   ]
  },
  {
   "cell_type": "code",
   "execution_count": 2,
   "metadata": {},
   "outputs": [],
   "source": [
    "\n",
    "def unlist(a, n=0):\n",
    "    #print(a)\n",
    "    if a == 0:\n",
    "        return 0\n",
    "    #print(a[1:-1].split(','))\n",
    "    return int(a[1:-1].split(',')[n])\n",
    "\n",
    "\n",
    "#def checkgroup(Frame, M, hkl, Slabsize, parameter, value, convergence=False):\n",
    "#    tocheck = Frame.groupby('convergence').get_group(convergence)\n",
    "#    print(checkforparameter(tocheck[(tocheck['Name'].str.contains(M+'-'+hkl)) & (tocheck['Slab size'].str.startswith(Slabsize))], parameter, value))\n",
    "#    print(checkforparameter(tocheck[(tocheck['Name'].str.contains(M+'-'+hkl)) & (tocheck['Slab size'].str.startswith(Slabsize))], parameter, value))\n"
   ]
  },
  {
   "cell_type": "code",
   "execution_count": 3,
   "metadata": {},
   "outputs": [
    {
     "name": "stderr",
     "output_type": "stream",
     "text": [
      "CRITICAL:root:data/Cu/slabs/100/clean/2x2x4/OH/zeroAtoms/final.traj energy could not be read\n"
     ]
    },
    {
     "name": "stdout",
     "output_type": "stream",
     "text": [
      "Found 8 folders in data/Cu/slabs/\n"
     ]
    }
   ],
   "source": [
    "root=getcwd()\n",
    "\n",
    "Cu_slabs = create_frame('data/Cu/slabs', calc_file='final.traj', flag_file='final.traj')\n",
    "\n"
   ]
  },
  {
   "cell_type": "markdown",
   "metadata": {},
   "source": [
    "### 1. Obtaining the calc object from an Atoms object"
   ]
  },
  {
   "cell_type": "code",
   "execution_count": 4,
   "metadata": {},
   "outputs": [
    {
     "data": {
      "text/plain": [
       "100-clean-2x2x4                  {'encut': 500, 'sigma': 0.1, 'zab_vdw': -1.886...\n",
       "100-clean-2x2x4-CO-1             {'encut': 500, 'sigma': 0.1, 'zab_vdw': -1.886...\n",
       "100-clean-2x2x4-O                {'encut': 500, 'sigma': 0.1, 'zab_vdw': -1.886...\n",
       "100-clean-2x2x4-H                {'encut': 500, 'sigma': 0.1, 'zab_vdw': -1.886...\n",
       "100-clean-2x2x4-OH-complete      {'encut': 500, 'sigma': 0.1, 'zab_vdw': -1.886...\n",
       "100-clean-2x2x4-OH-incomplete    {'encut': 500, 'sigma': 0.1, 'zab_vdw': -1.886...\n",
       "100-clean-2x2x4-OH-missmatch     {'encut': 500, 'sigma': 0.1, 'zab_vdw': -1.886...\n",
       "100-clean-2x2x4-OH-zeroAtoms                                                    {}\n",
       "Name: parameters, dtype: object"
      ]
     },
     "execution_count": 4,
     "metadata": {},
     "output_type": "execute_result"
    }
   ],
   "source": [
    "Cu_slabs['parameters'] = Cu_slabs.apply(InputParameters, args=['struc'], axis=1) # Exctracting the ase.calc object from the ase.Atoms object in the column 'struc'\n",
    "Cu_slabs['parameters']"
   ]
  },
  {
   "cell_type": "markdown",
   "metadata": {},
   "source": [
    "### 2. Reading the Incar file"
   ]
  },
  {
   "cell_type": "code",
   "execution_count": 5,
   "metadata": {},
   "outputs": [
    {
     "name": "stdout",
     "output_type": "stream",
     "text": [
      "100-clean-2x2x4-OH-zeroAtoms An error occured: FileNotFoundError\n"
     ]
    },
    {
     "data": {
      "text/plain": [
       "100-clean-2x2x4                  {'ENCUT': 500, 'SIGMA': 0.1, 'ZAB_VDW': -1.886...\n",
       "100-clean-2x2x4-CO-1             {'ENCUT': 500, 'SIGMA': 0.1, 'ZAB_VDW': -1.886...\n",
       "100-clean-2x2x4-O                {'ENCUT': 500, 'SIGMA': 0.1, 'ZAB_VDW': -1.886...\n",
       "100-clean-2x2x4-H                {'ENCUT': 500, 'SIGMA': 0.1, 'ZAB_VDW': -1.886...\n",
       "100-clean-2x2x4-OH-complete      {'ENCUT': 500, 'SIGMA': 0.1, 'ZAB_VDW': -1.886...\n",
       "100-clean-2x2x4-OH-incomplete    {'ENCUT': 500, 'SIGMA': 0.1, 'ZAB_VDW': -1.886...\n",
       "100-clean-2x2x4-OH-missmatch     {'ENCUT': 500, 'SIGMA': 0.1, 'ZAB_VDW': -1.886...\n",
       "100-clean-2x2x4-OH-zeroAtoms                                                  None\n",
       "Name: INCAR, dtype: object"
      ]
     },
     "execution_count": 5,
     "metadata": {},
     "output_type": "execute_result"
    }
   ],
   "source": [
    "Cu_slabs['INCAR'] = Cu_slabs.apply(read_incar, axis=1) # reading the INCAR file in with the pymatgen package\n",
    "Cu_slabs['INCAR']"
   ]
  },
  {
   "cell_type": "markdown",
   "metadata": {},
   "source": [
    "# Check consistency of parameters"
   ]
  },
  {
   "cell_type": "code",
   "execution_count": 9,
   "metadata": {},
   "outputs": [
    {
     "name": "stdout",
     "output_type": "stream",
     "text": [
      "100-clean-2x2x4-OH-zeroAtoms An error occured: KeyError\n"
     ]
    },
    {
     "data": {
      "text/plain": [
       "{'100-clean-2x2x4': 'PBE',\n",
       " '100-clean-2x2x4-CO-1': 'PBE',\n",
       " '100-clean-2x2x4-O': 'PBE',\n",
       " '100-clean-2x2x4-H': 'PBE',\n",
       " '100-clean-2x2x4-OH-complete': 'PBE',\n",
       " '100-clean-2x2x4-OH-incomplete': 'PBE',\n",
       " '100-clean-2x2x4-OH-missmatch': 'PBE',\n",
       " '100-clean-2x2x4-OH-zeroAtoms': 0}"
      ]
     },
     "execution_count": 9,
     "metadata": {},
     "output_type": "execute_result"
    }
   ],
   "source": [
    "Cu_slabs.apply(getparameter, args=['xc'], axis=1).to_dict()"
   ]
  },
  {
   "cell_type": "code",
   "execution_count": 10,
   "metadata": {},
   "outputs": [
    {
     "name": "stdout",
     "output_type": "stream",
     "text": [
      "100-clean-2x2x4-OH-zeroAtoms An error occured: KeyError\n",
      "100-clean-2x2x4-OH-zeroAtoms    0\n"
     ]
    }
   ],
   "source": [
    "#As seen above most calculations use PBE as a functional. \n",
    "#To find the ones which fall out of this we can use the checkparameter function.\n",
    "checkforparameter(Cu_slabs, 'xc', 'PBE')"
   ]
  },
  {
   "cell_type": "code",
   "execution_count": 11,
   "metadata": {},
   "outputs": [
    {
     "name": "stdout",
     "output_type": "stream",
     "text": [
      "100-clean-2x2x4-OH-zeroAtoms An error occured: KeyError\n"
     ]
    },
    {
     "data": {
      "text/plain": [
       "{'100-clean-2x2x4': '500',\n",
       " '100-clean-2x2x4-CO-1': '500',\n",
       " '100-clean-2x2x4-O': '500',\n",
       " '100-clean-2x2x4-H': '500',\n",
       " '100-clean-2x2x4-OH-complete': '500',\n",
       " '100-clean-2x2x4-OH-incomplete': '500',\n",
       " '100-clean-2x2x4-OH-missmatch': '500',\n",
       " '100-clean-2x2x4-OH-zeroAtoms': 0}"
      ]
     },
     "execution_count": 11,
     "metadata": {},
     "output_type": "execute_result"
    }
   ],
   "source": [
    "Cu_slabs.apply(getparameter, args=['encut'], axis=1).to_dict()\n"
   ]
  },
  {
   "cell_type": "code",
   "execution_count": 12,
   "metadata": {},
   "outputs": [
    {
     "name": "stdout",
     "output_type": "stream",
     "text": [
      "100-clean-2x2x4-OH-zeroAtoms An error occured: KeyError\n",
      "100-clean-2x2x4-OH-zeroAtoms    0\n"
     ]
    }
   ],
   "source": [
    "checkforparameter(Cu_slabs, 'encut', '500') #only those calculaions who deviate from the parameters are shown"
   ]
  },
  {
   "cell_type": "code",
   "execution_count": 13,
   "metadata": {},
   "outputs": [
    {
     "name": "stdout",
     "output_type": "stream",
     "text": [
      "100-clean-2x2x4-OH-zeroAtoms An error occured: KeyError\n"
     ]
    },
    {
     "data": {
      "text/plain": [
       "{'100-clean-2x2x4': '1e-07',\n",
       " '100-clean-2x2x4-CO-1': '1e-05',\n",
       " '100-clean-2x2x4-O': '1e-07',\n",
       " '100-clean-2x2x4-H': '1e-07',\n",
       " '100-clean-2x2x4-OH-complete': '1e-07',\n",
       " '100-clean-2x2x4-OH-incomplete': '1e-07',\n",
       " '100-clean-2x2x4-OH-missmatch': '1e-07',\n",
       " '100-clean-2x2x4-OH-zeroAtoms': 0}"
      ]
     },
     "execution_count": 13,
     "metadata": {},
     "output_type": "execute_result"
    }
   ],
   "source": [
    "Cu_slabs.apply(getparameter, args=['ediff'], axis=1).to_dict()"
   ]
  },
  {
   "cell_type": "code",
   "execution_count": 14,
   "metadata": {},
   "outputs": [
    {
     "name": "stdout",
     "output_type": "stream",
     "text": [
      "100-clean-2x2x4-OH-zeroAtoms An error occured: KeyError\n",
      "100-clean-2x2x4-CO-1            1e-05\n",
      "100-clean-2x2x4-OH-zeroAtoms        0\n"
     ]
    }
   ],
   "source": [
    "#It seems for one calculation ediff was changed to a lower value to make it converge.\n",
    "checkforparameter(Cu_slabs, 'ediff', '1e-07')"
   ]
  },
  {
   "cell_type": "markdown",
   "metadata": {},
   "source": [
    "# Kpoints\n",
    "\n",
    "##### Kpoints cannot just be looked at indiviually. The Kpoints have to be compared to the size of the unit cell."
   ]
  },
  {
   "cell_type": "code",
   "execution_count": 15,
   "metadata": {},
   "outputs": [
    {
     "name": "stdout",
     "output_type": "stream",
     "text": [
      "100-clean-2x2x4-OH-zeroAtoms An error occured: KeyError\n"
     ]
    }
   ],
   "source": [
    "Cu_slabs['kpts'] = Cu_slabs.apply(getparameter, args=['kpts'], axis=1)"
   ]
  },
  {
   "cell_type": "code",
   "execution_count": 16,
   "metadata": {},
   "outputs": [],
   "source": [
    "Cu_slabs['k1'] = Cu_slabs['kpts'].apply(unlist,n=0)\n",
    "Cu_slabs['k2'] = Cu_slabs['kpts'].apply(unlist,n=1)\n",
    "Cu_slabs['k3'] = Cu_slabs['kpts'].apply(unlist,n=2)"
   ]
  },
  {
   "cell_type": "code",
   "execution_count": 17,
   "metadata": {},
   "outputs": [],
   "source": [
    "Cu_slabs['k*a'] = 1/(Cu_slabs['k1']*Cu_slabs['a'])\n",
    "Cu_slabs['k*b'] = 1/(Cu_slabs['k2']*Cu_slabs['b'])"
   ]
  },
  {
   "cell_type": "code",
   "execution_count": 18,
   "metadata": {},
   "outputs": [
    {
     "data": {
      "text/plain": [
       "100-clean-2x2x4                  0.032159\n",
       "100-clean-2x2x4-CO-1             0.032159\n",
       "100-clean-2x2x4-O                0.032159\n",
       "100-clean-2x2x4-H                0.032159\n",
       "100-clean-2x2x4-OH-complete      0.032159\n",
       "100-clean-2x2x4-OH-incomplete    0.032159\n",
       "100-clean-2x2x4-OH-missmatch     0.032159\n",
       "100-clean-2x2x4-OH-zeroAtoms          inf\n",
       "Name: k*a, dtype: float64"
      ]
     },
     "execution_count": 18,
     "metadata": {},
     "output_type": "execute_result"
    }
   ],
   "source": [
    "Cu_slabs['k*a']\n",
    "#It seems they are all the same. Which is good."
   ]
  },
  {
   "cell_type": "code",
   "execution_count": 19,
   "metadata": {},
   "outputs": [
    {
     "data": {
      "image/png": "[encoded data removed]",
      "text/plain": [
       "<Figure size 640x480 with 1 Axes>"
      ]
     },
     "metadata": {},
     "output_type": "display_data"
    }
   ],
   "source": [
    "import matplotlib.pyplot as plt\n",
    "plt.boxplot([Cu_slabs['k*a'], Cu_slabs['k*b']])\n",
    "plt.show()\n"
   ]
  },
  {
   "cell_type": "markdown",
   "metadata": {},
   "source": [
    "If one of the calculations has a different k points set than the other you will see boxplot like this"
   ]
  },
  {
   "cell_type": "code",
   "execution_count": 20,
   "metadata": {},
   "outputs": [
    {
     "data": {
      "image/png": "[encoded data removed]",
      "text/plain": [
       "<Figure size 640x480 with 1 Axes>"
      ]
     },
     "metadata": {},
     "output_type": "display_data"
    }
   ],
   "source": [
    "\n",
    "Cu_slabs.at['100-clean-2x2x4', 'k1'] = 7 # Lets say that K point is too high\n",
    "Cu_slabs.at['100-clean-2x2x4', 'k2'] = 4 # and that K point is too low\n",
    "\n",
    "Cu_slabs['k*a'] = 1/(Cu_slabs['k1']*Cu_slabs['a'])\n",
    "Cu_slabs['k*b'] = 1/(Cu_slabs['k2']*Cu_slabs['b'])\n",
    "\n",
    "\n",
    "plt.boxplot([Cu_slabs['k*a'], Cu_slabs['k*b']])\n",
    "plt.show()"
   ]
  },
  {
   "cell_type": "markdown",
   "metadata": {},
   "source": [
    "We can do the same with plotly instead of matplotlib to get immedeiate acces to the calculation."
   ]
  },
  {
   "cell_type": "code",
   "execution_count": 25,
   "metadata": {},
   "outputs": [
    {
     "data": {
      "application/vnd.plotly.v1+json": {
       "config": {
        "plotlyServerURL": "https://plot.ly"
       },
       "data": [
        {
         "alignmentgroup": "True",
         "customdata": [
          [
           7,
           4
          ],
          [
           6,
           6
          ],
          [
           6,
           6
          ],
          [
           6,
           6
          ],
          [
           6,
           6
          ],
          [
           6,
           6
          ],
          [
           6,
           6
          ],
          [
           0,
           0
          ],
          [
           7,
           4
          ],
          [
           6,
           6
          ],
          [
           6,
           6
          ],
          [
           6,
           6
          ],
          [
           6,
           6
          ],
          [
           6,
           6
          ],
          [
           6,
           6
          ],
          [
           0,
           0
          ]
         ],
         "hovertemplate": "<b>%{hovertext}</b><br><br>variable=%{x}<br>value=%{y}<br>k1=%{customdata[0]}<br>k2=%{customdata[1]}<extra></extra>",
         "hovertext": [
          "100-clean-2x2x4",
          "100-clean-2x2x4-CO-1",
          "100-clean-2x2x4-O",
          "100-clean-2x2x4-H",
          "100-clean-2x2x4-OH-complete",
          "100-clean-2x2x4-OH-incomplete",
          "100-clean-2x2x4-OH-missmatch",
          "100-clean-2x2x4-OH-zeroAtoms",
          "100-clean-2x2x4",
          "100-clean-2x2x4-CO-1",
          "100-clean-2x2x4-O",
          "100-clean-2x2x4-H",
          "100-clean-2x2x4-OH-complete",
          "100-clean-2x2x4-OH-incomplete",
          "100-clean-2x2x4-OH-missmatch",
          "100-clean-2x2x4-OH-zeroAtoms"
         ],
         "legendgroup": "",
         "marker": {
          "color": "#636efa"
         },
         "name": "",
         "notched": false,
         "offsetgroup": "",
         "orientation": "v",
         "showlegend": false,
         "type": "box",
         "x": [
          "k*b",
          "k*b",
          "k*b",
          "k*b",
          "k*b",
          "k*b",
          "k*b",
          "k*b",
          "k*a",
          "k*a",
          "k*a",
          "k*a",
          "k*a",
          "k*a",
          "k*a",
          "k*a"
         ],
         "x0": " ",
         "xaxis": "x",
         "y": [
          0.048239051294818126,
          0.032159367529878746,
          0.032159367529878746,
          0.032159367529878746,
          0.032159367529878746,
          0.032159367529878746,
          0.032159367529878746,
          null,
          0.027565172168467503,
          0.032159367529878746,
          0.032159367529878746,
          0.032159367529878746,
          0.032159367529878746,
          0.032159367529878746,
          0.032159367529878746,
          null
         ],
         "y0": " ",
         "yaxis": "y"
        }
       ],
       "layout": {
        "boxmode": "group",
        "legend": {
         "tracegroupgap": 0
        },
        "margin": {
         "t": 60
        },
        "template": {
         "data": {
          "bar": [
           {
            "error_x": {
             "color": "#2a3f5f"
            },
            "error_y": {
             "color": "#2a3f5f"
            },
            "marker": {
             "line": {
              "color": "#E5ECF6",
              "width": 0.5
             },
             "pattern": {
              "fillmode": "overlay",
              "size": 10,
              "solidity": 0.2
             }
            },
            "type": "bar"
           }
          ],
          "barpolar": [
           {
            "marker": {
             "line": {
              "color": "#E5ECF6",
              "width": 0.5
             },
             "pattern": {
              "fillmode": "overlay",
              "size": 10,
              "solidity": 0.2
             }
            },
            "type": "barpolar"
           }
          ],
          "carpet": [
           {
            "aaxis": {
             "endlinecolor": "#2a3f5f",
             "gridcolor": "white",
             "linecolor": "white",
             "minorgridcolor": "white",
             "startlinecolor": "#2a3f5f"
            },
            "baxis": {
             "endlinecolor": "#2a3f5f",
             "gridcolor": "white",
             "linecolor": "white",
             "minorgridcolor": "white",
             "startlinecolor": "#2a3f5f"
            },
            "type": "carpet"
           }
          ],
          "choropleth": [
           {
            "colorbar": {
             "outlinewidth": 0,
             "ticks": ""
            },
            "type": "choropleth"
           }
          ],
          "contour": [
           {
            "colorbar": {
             "outlinewidth": 0,
             "ticks": ""
            },
            "colorscale": [
             [
              0,
              "#0d0887"
             ],
             [
              0.1111111111111111,
              "#46039f"
             ],
             [
              0.2222222222222222,
              "#7201a8"
             ],
             [
              0.3333333333333333,
              "#9c179e"
             ],
             [
              0.4444444444444444,
              "#bd3786"
             ],
             [
              0.5555555555555556,
              "#d8576b"
             ],
             [
              0.6666666666666666,
              "#ed7953"
             ],
             [
              0.7777777777777778,
              "#fb9f3a"
             ],
             [
              0.8888888888888888,
              "#fdca26"
             ],
             [
              1,
              "#f0f921"
             ]
            ],
            "type": "contour"
           }
          ],
          "contourcarpet": [
           {
            "colorbar": {
             "outlinewidth": 0,
             "ticks": ""
            },
            "type": "contourcarpet"
           }
          ],
          "heatmap": [
           {
            "colorbar": {
             "outlinewidth": 0,
             "ticks": ""
            },
            "colorscale": [
             [
              0,
              "#0d0887"
             ],
             [
              0.1111111111111111,
              "#46039f"
             ],
             [
              0.2222222222222222,
              "#7201a8"
             ],
             [
              0.3333333333333333,
              "#9c179e"
             ],
             [
              0.4444444444444444,
              "#bd3786"
             ],
             [
              0.5555555555555556,
              "#d8576b"
             ],
             [
              0.6666666666666666,
              "#ed7953"
             ],
             [
              0.7777777777777778,
              "#fb9f3a"
             ],
             [
              0.8888888888888888,
              "#fdca26"
             ],
             [
              1,
              "#f0f921"
             ]
            ],
            "type": "heatmap"
           }
          ],
          "heatmapgl": [
           {
            "colorbar": {
             "outlinewidth": 0,
             "ticks": ""
            },
            "colorscale": [
             [
              0,
              "#0d0887"
             ],
             [
              0.1111111111111111,
              "#46039f"
             ],
             [
              0.2222222222222222,
              "#7201a8"
             ],
             [
              0.3333333333333333,
              "#9c179e"
             ],
             [
              0.4444444444444444,
              "#bd3786"
             ],
             [
              0.5555555555555556,
              "#d8576b"
             ],
             [
              0.6666666666666666,
              "#ed7953"
             ],
             [
              0.7777777777777778,
              "#fb9f3a"
             ],
             [
              0.8888888888888888,
              "#fdca26"
             ],
             [
              1,
              "#f0f921"
             ]
            ],
            "type": "heatmapgl"
           }
          ],
          "histogram": [
           {
            "marker": {
             "pattern": {
              "fillmode": "overlay",
              "size": 10,
              "solidity": 0.2
             }
            },
            "type": "histogram"
           }
          ],
          "histogram2d": [
           {
            "colorbar": {
             "outlinewidth": 0,
             "ticks": ""
            },
            "colorscale": [
             [
              0,
              "#0d0887"
             ],
             [
              0.1111111111111111,
              "#46039f"
             ],
             [
              0.2222222222222222,
              "#7201a8"
             ],
             [
              0.3333333333333333,
              "#9c179e"
             ],
             [
              0.4444444444444444,
              "#bd3786"
             ],
             [
              0.5555555555555556,
              "#d8576b"
             ],
             [
              0.6666666666666666,
              "#ed7953"
             ],
             [
              0.7777777777777778,
              "#fb9f3a"
             ],
             [
              0.8888888888888888,
              "#fdca26"
             ],
             [
              1,
              "#f0f921"
             ]
            ],
            "type": "histogram2d"
           }
          ],
          "histogram2dcontour": [
           {
            "colorbar": {
             "outlinewidth": 0,
             "ticks": ""
            },
            "colorscale": [
             [
              0,
              "#0d0887"
             ],
             [
              0.1111111111111111,
              "#46039f"
             ],
             [
              0.2222222222222222,
              "#7201a8"
             ],
             [
              0.3333333333333333,
              "#9c179e"
             ],
             [
              0.4444444444444444,
              "#bd3786"
             ],
             [
              0.5555555555555556,
              "#d8576b"
             ],
             [
              0.6666666666666666,
              "#ed7953"
             ],
             [
              0.7777777777777778,
              "#fb9f3a"
             ],
             [
              0.8888888888888888,
              "#fdca26"
             ],
             [
              1,
              "#f0f921"
             ]
            ],
            "type": "histogram2dcontour"
           }
          ],
          "mesh3d": [
           {
            "colorbar": {
             "outlinewidth": 0,
             "ticks": ""
            },
            "type": "mesh3d"
           }
          ],
          "parcoords": [
           {
            "line": {
             "colorbar": {
              "outlinewidth": 0,
              "ticks": ""
             }
            },
            "type": "parcoords"
           }
          ],
          "pie": [
           {
            "automargin": true,
            "type": "pie"
           }
          ],
          "scatter": [
           {
            "fillpattern": {
             "fillmode": "overlay",
             "size": 10,
             "solidity": 0.2
            },
            "type": "scatter"
           }
          ],
          "scatter3d": [
           {
            "line": {
             "colorbar": {
              "outlinewidth": 0,
              "ticks": ""
             }
            },
            "marker": {
             "colorbar": {
              "outlinewidth": 0,
              "ticks": ""
             }
            },
            "type": "scatter3d"
           }
          ],
          "scattercarpet": [
           {
            "marker": {
             "colorbar": {
              "outlinewidth": 0,
              "ticks": ""
             }
            },
            "type": "scattercarpet"
           }
          ],
          "scattergeo": [
           {
            "marker": {
             "colorbar": {
              "outlinewidth": 0,
              "ticks": ""
             }
            },
            "type": "scattergeo"
           }
          ],
          "scattergl": [
           {
            "marker": {
             "colorbar": {
              "outlinewidth": 0,
              "ticks": ""
             }
            },
            "type": "scattergl"
           }
          ],
          "scattermapbox": [
           {
            "marker": {
             "colorbar": {
              "outlinewidth": 0,
              "ticks": ""
             }
            },
            "type": "scattermapbox"
           }
          ],
          "scatterpolar": [
           {
            "marker": {
             "colorbar": {
              "outlinewidth": 0,
              "ticks": ""
             }
            },
            "type": "scatterpolar"
           }
          ],
          "scatterpolargl": [
           {
            "marker": {
             "colorbar": {
              "outlinewidth": 0,
              "ticks": ""
             }
            },
            "type": "scatterpolargl"
           }
          ],
          "scatterternary": [
           {
            "marker": {
             "colorbar": {
              "outlinewidth": 0,
              "ticks": ""
             }
            },
            "type": "scatterternary"
           }
          ],
          "surface": [
           {
            "colorbar": {
             "outlinewidth": 0,
             "ticks": ""
            },
            "colorscale": [
             [
              0,
              "#0d0887"
             ],
             [
              0.1111111111111111,
              "#46039f"
             ],
             [
              0.2222222222222222,
              "#7201a8"
             ],
             [
              0.3333333333333333,
              "#9c179e"
             ],
             [
              0.4444444444444444,
              "#bd3786"
             ],
             [
              0.5555555555555556,
              "#d8576b"
             ],
             [
              0.6666666666666666,
              "#ed7953"
             ],
             [
              0.7777777777777778,
              "#fb9f3a"
             ],
             [
              0.8888888888888888,
              "#fdca26"
             ],
             [
              1,
              "#f0f921"
             ]
            ],
            "type": "surface"
           }
          ],
          "table": [
           {
            "cells": {
             "fill": {
              "color": "#EBF0F8"
             },
             "line": {
              "color": "white"
             }
            },
            "header": {
             "fill": {
              "color": "#C8D4E3"
             },
             "line": {
              "color": "white"
             }
            },
            "type": "table"
           }
          ]
         },
         "layout": {
          "annotationdefaults": {
           "arrowcolor": "#2a3f5f",
           "arrowhead": 0,
           "arrowwidth": 1
          },
          "autotypenumbers": "strict",
          "coloraxis": {
           "colorbar": {
            "outlinewidth": 0,
            "ticks": ""
           }
          },
          "colorscale": {
           "diverging": [
            [
             0,
             "#8e0152"
            ],
            [
             0.1,
             "#c51b7d"
            ],
            [
             0.2,
             "#de77ae"
            ],
            [
             0.3,
             "#f1b6da"
            ],
            [
             0.4,
             "#fde0ef"
            ],
            [
             0.5,
             "#f7f7f7"
            ],
            [
             0.6,
             "#e6f5d0"
            ],
            [
             0.7,
             "#b8e186"
            ],
            [
             0.8,
             "#7fbc41"
            ],
            [
             0.9,
             "#4d9221"
            ],
            [
             1,
             "#276419"
            ]
           ],
           "sequential": [
            [
             0,
             "#0d0887"
            ],
            [
             0.1111111111111111,
             "#46039f"
            ],
            [
             0.2222222222222222,
             "#7201a8"
            ],
            [
             0.3333333333333333,
             "#9c179e"
            ],
            [
             0.4444444444444444,
             "#bd3786"
            ],
            [
             0.5555555555555556,
             "#d8576b"
            ],
            [
             0.6666666666666666,
             "#ed7953"
            ],
            [
             0.7777777777777778,
             "#fb9f3a"
            ],
            [
             0.8888888888888888,
             "#fdca26"
            ],
            [
             1,
             "#f0f921"
            ]
           ],
           "sequentialminus": [
            [
             0,
             "#0d0887"
            ],
            [
             0.1111111111111111,
             "#46039f"
            ],
            [
             0.2222222222222222,
             "#7201a8"
            ],
            [
             0.3333333333333333,
             "#9c179e"
            ],
            [
             0.4444444444444444,
             "#bd3786"
            ],
            [
             0.5555555555555556,
             "#d8576b"
            ],
            [
             0.6666666666666666,
             "#ed7953"
            ],
            [
             0.7777777777777778,
             "#fb9f3a"
            ],
            [
             0.8888888888888888,
             "#fdca26"
            ],
            [
             1,
             "#f0f921"
            ]
           ]
          },
          "colorway": [
           "#636efa",
           "#EF553B",
           "#00cc96",
           "#ab63fa",
           "#FFA15A",
           "#19d3f3",
           "#FF6692",
           "#B6E880",
           "#FF97FF",
           "#FECB52"
          ],
          "font": {
           "color": "#2a3f5f"
          },
          "geo": {
           "bgcolor": "white",
           "lakecolor": "white",
           "landcolor": "#E5ECF6",
           "showlakes": true,
           "showland": true,
           "subunitcolor": "white"
          },
          "hoverlabel": {
           "align": "left"
          },
          "hovermode": "closest",
          "mapbox": {
           "style": "light"
          },
          "paper_bgcolor": "white",
          "plot_bgcolor": "#E5ECF6",
          "polar": {
           "angularaxis": {
            "gridcolor": "white",
            "linecolor": "white",
            "ticks": ""
           },
           "bgcolor": "#E5ECF6",
           "radialaxis": {
            "gridcolor": "white",
            "linecolor": "white",
            "ticks": ""
           }
          },
          "scene": {
           "xaxis": {
            "backgroundcolor": "#E5ECF6",
            "gridcolor": "white",
            "gridwidth": 2,
            "linecolor": "white",
            "showbackground": true,
            "ticks": "",
            "zerolinecolor": "white"
           },
           "yaxis": {
            "backgroundcolor": "#E5ECF6",
            "gridcolor": "white",
            "gridwidth": 2,
            "linecolor": "white",
            "showbackground": true,
            "ticks": "",
            "zerolinecolor": "white"
           },
           "zaxis": {
            "backgroundcolor": "#E5ECF6",
            "gridcolor": "white",
            "gridwidth": 2,
            "linecolor": "white",
            "showbackground": true,
            "ticks": "",
            "zerolinecolor": "white"
           }
          },
          "shapedefaults": {
           "line": {
            "color": "#2a3f5f"
           }
          },
          "ternary": {
           "aaxis": {
            "gridcolor": "white",
            "linecolor": "white",
            "ticks": ""
           },
           "baxis": {
            "gridcolor": "white",
            "linecolor": "white",
            "ticks": ""
           },
           "bgcolor": "#E5ECF6",
           "caxis": {
            "gridcolor": "white",
            "linecolor": "white",
            "ticks": ""
           }
          },
          "title": {
           "x": 0.05
          },
          "xaxis": {
           "automargin": true,
           "gridcolor": "white",
           "linecolor": "white",
           "ticks": "",
           "title": {
            "standoff": 15
           },
           "zerolinecolor": "white",
           "zerolinewidth": 2
          },
          "yaxis": {
           "automargin": true,
           "gridcolor": "white",
           "linecolor": "white",
           "ticks": "",
           "title": {
            "standoff": 15
           },
           "zerolinecolor": "white",
           "zerolinewidth": 2
          }
         }
        },
        "xaxis": {
         "anchor": "y",
         "domain": [
          0,
          1
         ],
         "title": {
          "text": "variable"
         }
        },
        "yaxis": {
         "anchor": "x",
         "domain": [
          0,
          1
         ],
         "title": {
          "text": "value"
         }
        }
       }
      }
     },
     "metadata": {},
     "output_type": "display_data"
    }
   ],
   "source": [
    "import plotly.express as px\n",
    "fig = px.box(Cu_slabs , y=[\"k*b\", \"k*a\"], hover_name='Name', hover_data={'k1':True, 'k2':True})\n",
    "fig.show()\n",
    "#Hover with the mouse over the point"
   ]
  }
 ],
 "metadata": {
  "kernelspec": {
   "display_name": "base",
   "language": "python",
   "name": "python3"
  },
  "language_info": {
   "codemirror_mode": {
    "name": "ipython",
    "version": 3
   },
   "file_extension": ".py",
   "mimetype": "text/x-python",
   "name": "python",
   "nbconvert_exporter": "python",
   "pygments_lexer": "ipython3",
   "version": "3.11.6"
  }
 },
 "nbformat": 4,
 "nbformat_minor": 2
}
